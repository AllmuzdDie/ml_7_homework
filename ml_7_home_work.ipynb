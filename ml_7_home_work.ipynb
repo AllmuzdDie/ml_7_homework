{
 "cells": [
  {
   "cell_type": "code",
   "execution_count": 34,
   "metadata": {},
   "outputs": [],
   "source": [
    "import pandas as pd\n",
    "import numpy as np\n",
    "from sklearn.linear_model import LogisticRegression\n",
    "from sklearn.ensemble import RandomForestClassifier\n",
    "from sklearn.metrics import f1_score\n",
    "from sklearn.model_selection import train_test_split, cross_val_score, GridSearchCV, RandomizedSearchCV\n",
    "import optuna\n",
    "from hyperopt import fmin, hp, tpe, Trials"
   ]
  },
  {
   "cell_type": "code",
   "execution_count": 2,
   "metadata": {},
   "outputs": [
    {
     "data": {
      "text/plain": [
       "(3751, 1777)"
      ]
     },
     "execution_count": 2,
     "metadata": {},
     "output_type": "execute_result"
    }
   ],
   "source": [
    "df = pd.read_csv('data/_train_sem09 (1).csv')\n",
    "df.shape"
   ]
  },
  {
   "cell_type": "code",
   "execution_count": 3,
   "metadata": {},
   "outputs": [],
   "source": [
    "X = df.drop('Activity', axis=1)\n",
    "y = df['Activity']"
   ]
  },
  {
   "cell_type": "code",
   "execution_count": 4,
   "metadata": {},
   "outputs": [
    {
     "data": {
      "text/plain": [
       "Activity\n",
       "1    2034\n",
       "0    1717\n",
       "Name: count, dtype: int64"
      ]
     },
     "execution_count": 4,
     "metadata": {},
     "output_type": "execute_result"
    }
   ],
   "source": [
    "y.value_counts() # классы сбалансированы"
   ]
  },
  {
   "cell_type": "code",
   "execution_count": 5,
   "metadata": {},
   "outputs": [],
   "source": [
    "X_train, X_test, y_train, y_test = train_test_split(X, y, test_size=0.3, random_state=42)"
   ]
  },
  {
   "cell_type": "markdown",
   "metadata": {},
   "source": [
    "### Оптимизация Логистической регрессии"
   ]
  },
  {
   "cell_type": "code",
   "execution_count": 39,
   "metadata": {},
   "outputs": [
    {
     "name": "stdout",
     "output_type": "stream",
     "text": [
      "Значение f1_score на тестовых данных для дефорлной модели 0.79\n"
     ]
    }
   ],
   "source": [
    "log_reg = LogisticRegression(max_iter=1000, random_state=42)\n",
    "\n",
    "log_reg.fit(X_train, y_train)\n",
    "\n",
    "y_pred_log = log_reg.predict(X_test)\n",
    "\n",
    "print('Значение f1_score на тестовых данных для дефорлной модели {}'\n",
    "      .format(round(f1_score(y_test, y_pred_log), 2))\n",
    "      )"
   ]
  },
  {
   "cell_type": "markdown",
   "metadata": {},
   "source": [
    "Оптимизация с помощью GridSearchCV"
   ]
  },
  {
   "cell_type": "code",
   "execution_count": 25,
   "metadata": {},
   "outputs": [
    {
     "name": "stdout",
     "output_type": "stream",
     "text": [
      "CPU times: total: 18.2 s\n",
      "Wall time: 17min 23s\n"
     ]
    },
    {
     "data": {
      "text/html": [
       "<style>#sk-container-id-3 {color: black;}#sk-container-id-3 pre{padding: 0;}#sk-container-id-3 div.sk-toggleable {background-color: white;}#sk-container-id-3 label.sk-toggleable__label {cursor: pointer;display: block;width: 100%;margin-bottom: 0;padding: 0.3em;box-sizing: border-box;text-align: center;}#sk-container-id-3 label.sk-toggleable__label-arrow:before {content: \"▸\";float: left;margin-right: 0.25em;color: #696969;}#sk-container-id-3 label.sk-toggleable__label-arrow:hover:before {color: black;}#sk-container-id-3 div.sk-estimator:hover label.sk-toggleable__label-arrow:before {color: black;}#sk-container-id-3 div.sk-toggleable__content {max-height: 0;max-width: 0;overflow: hidden;text-align: left;background-color: #f0f8ff;}#sk-container-id-3 div.sk-toggleable__content pre {margin: 0.2em;color: black;border-radius: 0.25em;background-color: #f0f8ff;}#sk-container-id-3 input.sk-toggleable__control:checked~div.sk-toggleable__content {max-height: 200px;max-width: 100%;overflow: auto;}#sk-container-id-3 input.sk-toggleable__control:checked~label.sk-toggleable__label-arrow:before {content: \"▾\";}#sk-container-id-3 div.sk-estimator input.sk-toggleable__control:checked~label.sk-toggleable__label {background-color: #d4ebff;}#sk-container-id-3 div.sk-label input.sk-toggleable__control:checked~label.sk-toggleable__label {background-color: #d4ebff;}#sk-container-id-3 input.sk-hidden--visually {border: 0;clip: rect(1px 1px 1px 1px);clip: rect(1px, 1px, 1px, 1px);height: 1px;margin: -1px;overflow: hidden;padding: 0;position: absolute;width: 1px;}#sk-container-id-3 div.sk-estimator {font-family: monospace;background-color: #f0f8ff;border: 1px dotted black;border-radius: 0.25em;box-sizing: border-box;margin-bottom: 0.5em;}#sk-container-id-3 div.sk-estimator:hover {background-color: #d4ebff;}#sk-container-id-3 div.sk-parallel-item::after {content: \"\";width: 100%;border-bottom: 1px solid gray;flex-grow: 1;}#sk-container-id-3 div.sk-label:hover label.sk-toggleable__label {background-color: #d4ebff;}#sk-container-id-3 div.sk-serial::before {content: \"\";position: absolute;border-left: 1px solid gray;box-sizing: border-box;top: 0;bottom: 0;left: 50%;z-index: 0;}#sk-container-id-3 div.sk-serial {display: flex;flex-direction: column;align-items: center;background-color: white;padding-right: 0.2em;padding-left: 0.2em;position: relative;}#sk-container-id-3 div.sk-item {position: relative;z-index: 1;}#sk-container-id-3 div.sk-parallel {display: flex;align-items: stretch;justify-content: center;background-color: white;position: relative;}#sk-container-id-3 div.sk-item::before, #sk-container-id-3 div.sk-parallel-item::before {content: \"\";position: absolute;border-left: 1px solid gray;box-sizing: border-box;top: 0;bottom: 0;left: 50%;z-index: -1;}#sk-container-id-3 div.sk-parallel-item {display: flex;flex-direction: column;z-index: 1;position: relative;background-color: white;}#sk-container-id-3 div.sk-parallel-item:first-child::after {align-self: flex-end;width: 50%;}#sk-container-id-3 div.sk-parallel-item:last-child::after {align-self: flex-start;width: 50%;}#sk-container-id-3 div.sk-parallel-item:only-child::after {width: 0;}#sk-container-id-3 div.sk-dashed-wrapped {border: 1px dashed gray;margin: 0 0.4em 0.5em 0.4em;box-sizing: border-box;padding-bottom: 0.4em;background-color: white;}#sk-container-id-3 div.sk-label label {font-family: monospace;font-weight: bold;display: inline-block;line-height: 1.2em;}#sk-container-id-3 div.sk-label-container {text-align: center;}#sk-container-id-3 div.sk-container {/* jupyter's `normalize.less` sets `[hidden] { display: none; }` but bootstrap.min.css set `[hidden] { display: none !important; }` so we also need the `!important` here to be able to override the default hidden behavior on the sphinx rendered scikit-learn.org. See: https://github.com/scikit-learn/scikit-learn/issues/21755 */display: inline-block !important;position: relative;}#sk-container-id-3 div.sk-text-repr-fallback {display: none;}</style><div id=\"sk-container-id-3\" class=\"sk-top-container\"><div class=\"sk-text-repr-fallback\"><pre>GridSearchCV(cv=5, estimator=LogisticRegression(max_iter=1000, random_state=42),\n",
       "             n_jobs=-1,\n",
       "             param_grid={&#x27;C&#x27;: [0.01, 0.12, 0.23, 0.34, 0.45, 0.56, 0.67, 0.78,\n",
       "                               0.89, 1.0],\n",
       "                         &#x27;penalty&#x27;: [&#x27;l2&#x27;, &#x27;none&#x27;],\n",
       "                         &#x27;solver&#x27;: [&#x27;lbfgs&#x27;, &#x27;newton-cg&#x27;, &#x27;newton-cholesky&#x27;,\n",
       "                                    &#x27;sag&#x27;, &#x27;saga&#x27;]})</pre><b>In a Jupyter environment, please rerun this cell to show the HTML representation or trust the notebook. <br />On GitHub, the HTML representation is unable to render, please try loading this page with nbviewer.org.</b></div><div class=\"sk-container\" hidden><div class=\"sk-item sk-dashed-wrapped\"><div class=\"sk-label-container\"><div class=\"sk-label sk-toggleable\"><input class=\"sk-toggleable__control sk-hidden--visually\" id=\"sk-estimator-id-7\" type=\"checkbox\" ><label for=\"sk-estimator-id-7\" class=\"sk-toggleable__label sk-toggleable__label-arrow\">GridSearchCV</label><div class=\"sk-toggleable__content\"><pre>GridSearchCV(cv=5, estimator=LogisticRegression(max_iter=1000, random_state=42),\n",
       "             n_jobs=-1,\n",
       "             param_grid={&#x27;C&#x27;: [0.01, 0.12, 0.23, 0.34, 0.45, 0.56, 0.67, 0.78,\n",
       "                               0.89, 1.0],\n",
       "                         &#x27;penalty&#x27;: [&#x27;l2&#x27;, &#x27;none&#x27;],\n",
       "                         &#x27;solver&#x27;: [&#x27;lbfgs&#x27;, &#x27;newton-cg&#x27;, &#x27;newton-cholesky&#x27;,\n",
       "                                    &#x27;sag&#x27;, &#x27;saga&#x27;]})</pre></div></div></div><div class=\"sk-parallel\"><div class=\"sk-parallel-item\"><div class=\"sk-item\"><div class=\"sk-label-container\"><div class=\"sk-label sk-toggleable\"><input class=\"sk-toggleable__control sk-hidden--visually\" id=\"sk-estimator-id-8\" type=\"checkbox\" ><label for=\"sk-estimator-id-8\" class=\"sk-toggleable__label sk-toggleable__label-arrow\">estimator: LogisticRegression</label><div class=\"sk-toggleable__content\"><pre>LogisticRegression(max_iter=1000, random_state=42)</pre></div></div></div><div class=\"sk-serial\"><div class=\"sk-item\"><div class=\"sk-estimator sk-toggleable\"><input class=\"sk-toggleable__control sk-hidden--visually\" id=\"sk-estimator-id-9\" type=\"checkbox\" ><label for=\"sk-estimator-id-9\" class=\"sk-toggleable__label sk-toggleable__label-arrow\">LogisticRegression</label><div class=\"sk-toggleable__content\"><pre>LogisticRegression(max_iter=1000, random_state=42)</pre></div></div></div></div></div></div></div></div></div></div>"
      ],
      "text/plain": [
       "GridSearchCV(cv=5, estimator=LogisticRegression(max_iter=1000, random_state=42),\n",
       "             n_jobs=-1,\n",
       "             param_grid={'C': [0.01, 0.12, 0.23, 0.34, 0.45, 0.56, 0.67, 0.78,\n",
       "                               0.89, 1.0],\n",
       "                         'penalty': ['l2', 'none'],\n",
       "                         'solver': ['lbfgs', 'newton-cg', 'newton-cholesky',\n",
       "                                    'sag', 'saga']})"
      ]
     },
     "execution_count": 25,
     "metadata": {},
     "output_type": "execute_result"
    }
   ],
   "source": [
    "param_lin_reg_dict = {'penalty': ['l2', 'none'],\n",
    "                    'solver': ['lbfgs', 'newton-cg', 'newton-cholesky', 'sag', 'saga'],\n",
    "                    'C': list(np.linspace(0.01, 1, 10, dtype=float))\n",
    "}\n",
    "\n",
    "grid_lin_reg = GridSearchCV(\n",
    "        estimator=LogisticRegression(\n",
    "        max_iter=1000,\n",
    "        random_state=42),\n",
    "    param_grid=param_lin_reg_dict,\n",
    "    cv=5,\n",
    "    n_jobs=-1\n",
    ")\n",
    "\n",
    "%time grid_lin_reg.fit(X_train, y_train)"
   ]
  },
  {
   "cell_type": "code",
   "execution_count": 26,
   "metadata": {},
   "outputs": [
    {
     "data": {
      "text/plain": [
       "{'C': 0.12, 'penalty': 'l2', 'solver': 'sag'}"
      ]
     },
     "execution_count": 26,
     "metadata": {},
     "output_type": "execute_result"
    }
   ],
   "source": [
    "grid_lin_reg.best_params_ # выводим лучшие параметры с использованием GridSearch"
   ]
  },
  {
   "cell_type": "code",
   "execution_count": 35,
   "metadata": {},
   "outputs": [
    {
     "name": "stdout",
     "output_type": "stream",
     "text": [
      "Метрика f1 Логистической регрессии с применение GridSearch 0.79\n"
     ]
    }
   ],
   "source": [
    "y_linreg_grid_search_predict = grid_lin_reg.predict(X_test)\n",
    "\n",
    "print('Метрика f1 Логистической регрессии с применение GridSearch {}'\n",
    "      .format(round(f1_score(y_test, y_linreg_grid_search_predict), 2)))"
   ]
  },
  {
   "cell_type": "markdown",
   "metadata": {},
   "source": [
    "Оптимизация с помощью RandomizeSearchCV"
   ]
  },
  {
   "cell_type": "code",
   "execution_count": 32,
   "metadata": {},
   "outputs": [
    {
     "name": "stdout",
     "output_type": "stream",
     "text": [
      "CPU times: total: 3.61 s\n",
      "Wall time: 1min 13s\n"
     ]
    },
    {
     "data": {
      "text/html": [
       "<style>#sk-container-id-4 {color: black;}#sk-container-id-4 pre{padding: 0;}#sk-container-id-4 div.sk-toggleable {background-color: white;}#sk-container-id-4 label.sk-toggleable__label {cursor: pointer;display: block;width: 100%;margin-bottom: 0;padding: 0.3em;box-sizing: border-box;text-align: center;}#sk-container-id-4 label.sk-toggleable__label-arrow:before {content: \"▸\";float: left;margin-right: 0.25em;color: #696969;}#sk-container-id-4 label.sk-toggleable__label-arrow:hover:before {color: black;}#sk-container-id-4 div.sk-estimator:hover label.sk-toggleable__label-arrow:before {color: black;}#sk-container-id-4 div.sk-toggleable__content {max-height: 0;max-width: 0;overflow: hidden;text-align: left;background-color: #f0f8ff;}#sk-container-id-4 div.sk-toggleable__content pre {margin: 0.2em;color: black;border-radius: 0.25em;background-color: #f0f8ff;}#sk-container-id-4 input.sk-toggleable__control:checked~div.sk-toggleable__content {max-height: 200px;max-width: 100%;overflow: auto;}#sk-container-id-4 input.sk-toggleable__control:checked~label.sk-toggleable__label-arrow:before {content: \"▾\";}#sk-container-id-4 div.sk-estimator input.sk-toggleable__control:checked~label.sk-toggleable__label {background-color: #d4ebff;}#sk-container-id-4 div.sk-label input.sk-toggleable__control:checked~label.sk-toggleable__label {background-color: #d4ebff;}#sk-container-id-4 input.sk-hidden--visually {border: 0;clip: rect(1px 1px 1px 1px);clip: rect(1px, 1px, 1px, 1px);height: 1px;margin: -1px;overflow: hidden;padding: 0;position: absolute;width: 1px;}#sk-container-id-4 div.sk-estimator {font-family: monospace;background-color: #f0f8ff;border: 1px dotted black;border-radius: 0.25em;box-sizing: border-box;margin-bottom: 0.5em;}#sk-container-id-4 div.sk-estimator:hover {background-color: #d4ebff;}#sk-container-id-4 div.sk-parallel-item::after {content: \"\";width: 100%;border-bottom: 1px solid gray;flex-grow: 1;}#sk-container-id-4 div.sk-label:hover label.sk-toggleable__label {background-color: #d4ebff;}#sk-container-id-4 div.sk-serial::before {content: \"\";position: absolute;border-left: 1px solid gray;box-sizing: border-box;top: 0;bottom: 0;left: 50%;z-index: 0;}#sk-container-id-4 div.sk-serial {display: flex;flex-direction: column;align-items: center;background-color: white;padding-right: 0.2em;padding-left: 0.2em;position: relative;}#sk-container-id-4 div.sk-item {position: relative;z-index: 1;}#sk-container-id-4 div.sk-parallel {display: flex;align-items: stretch;justify-content: center;background-color: white;position: relative;}#sk-container-id-4 div.sk-item::before, #sk-container-id-4 div.sk-parallel-item::before {content: \"\";position: absolute;border-left: 1px solid gray;box-sizing: border-box;top: 0;bottom: 0;left: 50%;z-index: -1;}#sk-container-id-4 div.sk-parallel-item {display: flex;flex-direction: column;z-index: 1;position: relative;background-color: white;}#sk-container-id-4 div.sk-parallel-item:first-child::after {align-self: flex-end;width: 50%;}#sk-container-id-4 div.sk-parallel-item:last-child::after {align-self: flex-start;width: 50%;}#sk-container-id-4 div.sk-parallel-item:only-child::after {width: 0;}#sk-container-id-4 div.sk-dashed-wrapped {border: 1px dashed gray;margin: 0 0.4em 0.5em 0.4em;box-sizing: border-box;padding-bottom: 0.4em;background-color: white;}#sk-container-id-4 div.sk-label label {font-family: monospace;font-weight: bold;display: inline-block;line-height: 1.2em;}#sk-container-id-4 div.sk-label-container {text-align: center;}#sk-container-id-4 div.sk-container {/* jupyter's `normalize.less` sets `[hidden] { display: none; }` but bootstrap.min.css set `[hidden] { display: none !important; }` so we also need the `!important` here to be able to override the default hidden behavior on the sphinx rendered scikit-learn.org. See: https://github.com/scikit-learn/scikit-learn/issues/21755 */display: inline-block !important;position: relative;}#sk-container-id-4 div.sk-text-repr-fallback {display: none;}</style><div id=\"sk-container-id-4\" class=\"sk-top-container\"><div class=\"sk-text-repr-fallback\"><pre>RandomizedSearchCV(cv=5,\n",
       "                   estimator=LogisticRegression(max_iter=1000, random_state=42),\n",
       "                   n_jobs=-1,\n",
       "                   param_distributions={&#x27;C&#x27;: [0.01, 0.12, 0.23, 0.34, 0.45,\n",
       "                                              0.56, 0.67, 0.78, 0.89, 1.0],\n",
       "                                        &#x27;penalty&#x27;: [&#x27;l2&#x27;, &#x27;none&#x27;],\n",
       "                                        &#x27;solver&#x27;: [&#x27;lbfgs&#x27;, &#x27;newton-cg&#x27;,\n",
       "                                                   &#x27;newton-cholesky&#x27;, &#x27;sag&#x27;,\n",
       "                                                   &#x27;saga&#x27;]})</pre><b>In a Jupyter environment, please rerun this cell to show the HTML representation or trust the notebook. <br />On GitHub, the HTML representation is unable to render, please try loading this page with nbviewer.org.</b></div><div class=\"sk-container\" hidden><div class=\"sk-item sk-dashed-wrapped\"><div class=\"sk-label-container\"><div class=\"sk-label sk-toggleable\"><input class=\"sk-toggleable__control sk-hidden--visually\" id=\"sk-estimator-id-10\" type=\"checkbox\" ><label for=\"sk-estimator-id-10\" class=\"sk-toggleable__label sk-toggleable__label-arrow\">RandomizedSearchCV</label><div class=\"sk-toggleable__content\"><pre>RandomizedSearchCV(cv=5,\n",
       "                   estimator=LogisticRegression(max_iter=1000, random_state=42),\n",
       "                   n_jobs=-1,\n",
       "                   param_distributions={&#x27;C&#x27;: [0.01, 0.12, 0.23, 0.34, 0.45,\n",
       "                                              0.56, 0.67, 0.78, 0.89, 1.0],\n",
       "                                        &#x27;penalty&#x27;: [&#x27;l2&#x27;, &#x27;none&#x27;],\n",
       "                                        &#x27;solver&#x27;: [&#x27;lbfgs&#x27;, &#x27;newton-cg&#x27;,\n",
       "                                                   &#x27;newton-cholesky&#x27;, &#x27;sag&#x27;,\n",
       "                                                   &#x27;saga&#x27;]})</pre></div></div></div><div class=\"sk-parallel\"><div class=\"sk-parallel-item\"><div class=\"sk-item\"><div class=\"sk-label-container\"><div class=\"sk-label sk-toggleable\"><input class=\"sk-toggleable__control sk-hidden--visually\" id=\"sk-estimator-id-11\" type=\"checkbox\" ><label for=\"sk-estimator-id-11\" class=\"sk-toggleable__label sk-toggleable__label-arrow\">estimator: LogisticRegression</label><div class=\"sk-toggleable__content\"><pre>LogisticRegression(max_iter=1000, random_state=42)</pre></div></div></div><div class=\"sk-serial\"><div class=\"sk-item\"><div class=\"sk-estimator sk-toggleable\"><input class=\"sk-toggleable__control sk-hidden--visually\" id=\"sk-estimator-id-12\" type=\"checkbox\" ><label for=\"sk-estimator-id-12\" class=\"sk-toggleable__label sk-toggleable__label-arrow\">LogisticRegression</label><div class=\"sk-toggleable__content\"><pre>LogisticRegression(max_iter=1000, random_state=42)</pre></div></div></div></div></div></div></div></div></div></div>"
      ],
      "text/plain": [
       "RandomizedSearchCV(cv=5,\n",
       "                   estimator=LogisticRegression(max_iter=1000, random_state=42),\n",
       "                   n_jobs=-1,\n",
       "                   param_distributions={'C': [0.01, 0.12, 0.23, 0.34, 0.45,\n",
       "                                              0.56, 0.67, 0.78, 0.89, 1.0],\n",
       "                                        'penalty': ['l2', 'none'],\n",
       "                                        'solver': ['lbfgs', 'newton-cg',\n",
       "                                                   'newton-cholesky', 'sag',\n",
       "                                                   'saga']})"
      ]
     },
     "execution_count": 32,
     "metadata": {},
     "output_type": "execute_result"
    }
   ],
   "source": [
    "random_search_lin_reg = RandomizedSearchCV(\n",
    "    estimator=LogisticRegression(\n",
    "        max_iter=1000, \n",
    "        random_state=42),\n",
    "    param_distributions=param_lin_reg_dict,\n",
    "    cv=5,\n",
    "    n_iter=10,\n",
    "    n_jobs=-1\n",
    ")\n",
    "\n",
    "%time random_search_lin_reg.fit(X_train, y_train)"
   ]
  },
  {
   "cell_type": "code",
   "execution_count": 33,
   "metadata": {},
   "outputs": [
    {
     "data": {
      "text/plain": [
       "{'solver': 'newton-cholesky', 'penalty': 'l2', 'C': 0.12}"
      ]
     },
     "execution_count": 33,
     "metadata": {},
     "output_type": "execute_result"
    }
   ],
   "source": [
    "random_search_lin_reg.best_params_  # лучшие параметры с использование random search"
   ]
  },
  {
   "cell_type": "code",
   "execution_count": 34,
   "metadata": {},
   "outputs": [
    {
     "name": "stdout",
     "output_type": "stream",
     "text": [
      "Метрика f1 Логистической регрессии с применение GridSearchm 0.79\n"
     ]
    }
   ],
   "source": [
    "y_linreg_rand_search_predict = random_search_lin_reg.predict(X_test)\n",
    "\n",
    "print('Метрика f1 Логистической регрессии с применение GridSearchm {}'\n",
    "      .format(round(f1_score(y_test, y_linreg_rand_search_predict), 2)))"
   ]
  },
  {
   "cell_type": "markdown",
   "metadata": {},
   "source": [
    "Оптимизация с помощью hyperopt"
   ]
  },
  {
   "cell_type": "code",
   "execution_count": 57,
   "metadata": {},
   "outputs": [
    {
     "name": "stdout",
     "output_type": "stream",
     "text": [
      "100%|██████████| 20/20 [08:33<00:00, 25.69s/trial, best loss: -0.7801662680182477]\n"
     ]
    }
   ],
   "source": [
    "hp_dict = {\n",
    "    'penalty': hp.choice('penalty', ['l2', 'none']),\n",
    "    'solver': hp.choice('solver', ['lbfgs', 'newton-cg', 'newton-cholesky', 'sag', 'saga']),\n",
    "    'C': hp.loguniform('C', np.log(0.01), np.log(1)),\n",
    "    'max_iter': hp.quniform('max_iter', 1000, 5000, 500) # в hyperopt попробуем еще дополнительно подобрать и этот параметр\n",
    "}\n",
    "\n",
    "def hp_optimization_func(params):\n",
    "    \n",
    "    param_dict = {\n",
    "        'penalty': params['penalty'],\n",
    "        'solver': params['solver'],\n",
    "        'C': params['C'],\n",
    "        'max_iter': int(params['max_iter'])\n",
    "    }\n",
    "    \n",
    "    log_reg = LogisticRegression(\n",
    "        **param_dict, random_state=42\n",
    "    )\n",
    "    \n",
    "    score = cross_val_score(\n",
    "        estimator=log_reg,\n",
    "        X=X_train,\n",
    "        y=y_train,\n",
    "        cv=5,\n",
    "        scoring='f1',\n",
    "        n_jobs=-1\n",
    "    )\n",
    "    \n",
    "    return -np.mean(score)\n",
    "\n",
    "\n",
    "trial = Trials() # сохранимся, возможно придется дотюнить параметры\n",
    "\n",
    "best = fmin(\n",
    "    fn=hp_optimization_func,\n",
    "    space=hp_dict,\n",
    "    algo=tpe.suggest,\n",
    "    trials=trial,\n",
    "    max_evals=20,\n",
    "    rstate=np.random.default_rng(42) \n",
    ")"
   ]
  },
  {
   "cell_type": "code",
   "execution_count": 51,
   "metadata": {},
   "outputs": [
    {
     "data": {
      "text/plain": [
       "{'C': 0.07413032553845407, 'max_iter': 3000.0, 'penalty': 0, 'solver': 4}"
      ]
     },
     "execution_count": 51,
     "metadata": {},
     "output_type": "execute_result"
    }
   ],
   "source": [
    "best"
   ]
  },
  {
   "cell_type": "code",
   "execution_count": 53,
   "metadata": {},
   "outputs": [
    {
     "name": "stdout",
     "output_type": "stream",
     "text": [
      "100%|██████████| 40/40 [02:54<00:00,  8.72s/trial, best loss: -0.7815882524730513]\n"
     ]
    }
   ],
   "source": [
    "# попробуем протестировать еще на 20 шагах\n",
    "\n",
    "hp_dict2 = {\n",
    "    'penalty': hp.choice('penalty', ['l2', 'none']),\n",
    "    'solver': hp.choice('solver', ['lbfgs', 'newton-cg', 'newton-cholesky', 'sag', 'saga']),\n",
    "    'C': hp.loguniform('C', np.log(0.01), np.log(1)),\n",
    "    'max_iter': hp.quniform('max_iter', 1000, 5000, 500) # в hyperopt попробуем еще дополнительно подобрать и этот параметр\n",
    "}\n",
    "\n",
    "best2 = fmin(\n",
    "    fn=hp_optimization_func,\n",
    "    space=hp_dict2,\n",
    "    trials=trial,\n",
    "    algo=tpe.suggest,\n",
    "    max_evals=40,\n",
    "    rstate=np.random.default_rng(42) \n",
    ")"
   ]
  },
  {
   "cell_type": "code",
   "execution_count": 54,
   "metadata": {},
   "outputs": [
    {
     "data": {
      "text/plain": [
       "{'C': 0.0916860657159772, 'max_iter': 3000.0, 'penalty': 0, 'solver': 3}"
      ]
     },
     "execution_count": 54,
     "metadata": {},
     "output_type": "execute_result"
    }
   ],
   "source": [
    "best2"
   ]
  },
  {
   "cell_type": "code",
   "execution_count": 61,
   "metadata": {},
   "outputs": [
    {
     "name": "stdout",
     "output_type": "stream",
     "text": [
      "f1 score для Логистической регрессии и алгоритма hyperopt 0.79\n"
     ]
    }
   ],
   "source": [
    "# обучим модель на полученных параметрах и посмотрим метрику на тестовых данных\n",
    "\n",
    "log_reg_hp = LogisticRegression(\n",
    "    penalty='l2',\n",
    "    C=0.09,\n",
    "    max_iter=3000,\n",
    "    solver='sag',\n",
    "    random_state=42\n",
    ")\n",
    "\n",
    "log_reg_hp.fit(X_train, y_train)\n",
    "\n",
    "y_pred_log_reg_hp = log_reg_hp.predict(X_test)\n",
    "\n",
    "print('f1 score для Логистической регрессии и алгоритма hyperopt {}'\n",
    "      .format(np.round(f1_score(y_test, y_pred_log_reg_hp), 2))\n",
    ")"
   ]
  },
  {
   "cell_type": "markdown",
   "metadata": {},
   "source": [
    "Оптимизируем параметры с помощью библиотеки optuna"
   ]
  },
  {
   "cell_type": "code",
   "execution_count": 64,
   "metadata": {},
   "outputs": [
    {
     "name": "stderr",
     "output_type": "stream",
     "text": [
      "[I 2024-08-22 21:59:58,056] A new study created in memory with name: LogReg_by_optuna\n",
      "[I 2024-08-22 22:00:14,471] Trial 0 finished with value: 0.7652200898479752 and parameters: {'penalty': 'l2', 'solver': 'saga', 'C': 0.6900000000000001, 'max_iter': 2250}. Best is trial 0 with value: 0.7652200898479752.\n",
      "[I 2024-08-22 22:00:21,932] Trial 1 finished with value: 0.7165567903719422 and parameters: {'penalty': 'none', 'solver': 'lbfgs', 'C': 0.51, 'max_iter': 3000}. Best is trial 0 with value: 0.7652200898479752.\n",
      "[I 2024-08-22 22:00:24,221] Trial 2 finished with value: 0.7738689755891965 and parameters: {'penalty': 'l2', 'solver': 'lbfgs', 'C': 0.17, 'max_iter': 2500}. Best is trial 2 with value: 0.7738689755891965.\n",
      "[I 2024-08-22 22:00:30,637] Trial 3 finished with value: 0.7165567903719422 and parameters: {'penalty': 'none', 'solver': 'lbfgs', 'C': 0.5700000000000001, 'max_iter': 4000}. Best is trial 2 with value: 0.7738689755891965.\n",
      "[I 2024-08-22 22:00:46,452] Trial 4 finished with value: 0.7619583570039333 and parameters: {'penalty': 'l2', 'solver': 'saga', 'C': 0.77, 'max_iter': 2000}. Best is trial 2 with value: 0.7738689755891965.\n",
      "[I 2024-08-22 22:01:03,584] Trial 5 finished with value: 0.7596924350173906 and parameters: {'penalty': 'l2', 'solver': 'saga', 'C': 0.87, 'max_iter': 1750}. Best is trial 2 with value: 0.7738689755891965.\n",
      "[I 2024-08-22 22:01:08,548] Trial 6 finished with value: 0.7629566303856062 and parameters: {'penalty': 'l2', 'solver': 'newton-cg', 'C': 0.72, 'max_iter': 2000}. Best is trial 2 with value: 0.7738689755891965.\n",
      "[I 2024-08-22 22:01:11,862] Trial 7 finished with value: 0.7784273109455763 and parameters: {'penalty': 'l2', 'solver': 'newton-cholesky', 'C': 0.12, 'max_iter': 3250}. Best is trial 7 with value: 0.7784273109455763.\n",
      "[I 2024-08-22 22:01:41,134] Trial 8 finished with value: 0.7510622995815074 and parameters: {'penalty': 'none', 'solver': 'saga', 'C': 0.72, 'max_iter': 1000}. Best is trial 7 with value: 0.7784273109455763.\n",
      "[I 2024-08-22 22:03:06,479] Trial 9 finished with value: 0.7429644652281903 and parameters: {'penalty': 'none', 'solver': 'saga', 'C': 0.12, 'max_iter': 3000}. Best is trial 7 with value: 0.7784273109455763.\n",
      "[I 2024-08-22 22:03:10,107] Trial 10 finished with value: 0.7670503541746359 and parameters: {'penalty': 'l2', 'solver': 'newton-cholesky', 'C': 0.28, 'max_iter': 4000}. Best is trial 7 with value: 0.7784273109455763.\n",
      "[I 2024-08-22 22:03:12,355] Trial 11 finished with value: 0.7679407199827726 and parameters: {'penalty': 'l2', 'solver': 'newton-cholesky', 'C': 0.01, 'max_iter': 3000}. Best is trial 7 with value: 0.7784273109455763.\n",
      "[I 2024-08-22 22:03:26,054] Trial 12 finished with value: 0.7660758586828943 and parameters: {'penalty': 'l2', 'solver': 'sag', 'C': 0.3, 'max_iter': 3250}. Best is trial 7 with value: 0.7784273109455763.\n",
      "[I 2024-08-22 22:03:29,821] Trial 13 finished with value: 0.7667433283806481 and parameters: {'penalty': 'l2', 'solver': 'newton-cholesky', 'C': 0.3, 'max_iter': 3500}. Best is trial 7 with value: 0.7784273109455763.\n",
      "[I 2024-08-22 22:03:32,022] Trial 14 finished with value: 0.778252500547002 and parameters: {'penalty': 'l2', 'solver': 'lbfgs', 'C': 0.15000000000000002, 'max_iter': 2500}. Best is trial 7 with value: 0.7784273109455763.\n",
      "[I 2024-08-22 22:03:36,658] Trial 15 finished with value: 0.7737399011425927 and parameters: {'penalty': 'l2', 'solver': 'sag', 'C': 0.03, 'max_iter': 1500}. Best is trial 7 with value: 0.7784273109455763.\n",
      "[I 2024-08-22 22:03:40,979] Trial 16 finished with value: 0.7656129377385013 and parameters: {'penalty': 'l2', 'solver': 'newton-cg', 'C': 0.39, 'max_iter': 3500}. Best is trial 7 with value: 0.7784273109455763.\n",
      "[I 2024-08-22 22:03:43,980] Trial 17 finished with value: 0.778252500547002 and parameters: {'penalty': 'l2', 'solver': 'newton-cholesky', 'C': 0.15000000000000002, 'max_iter': 2500}. Best is trial 7 with value: 0.7784273109455763.\n",
      "[I 2024-08-22 22:03:50,340] Trial 18 finished with value: 0.7165567903719422 and parameters: {'penalty': 'none', 'solver': 'lbfgs', 'C': 1.0, 'max_iter': 2750}. Best is trial 7 with value: 0.7784273109455763.\n",
      "[I 2024-08-22 22:03:53,903] Trial 19 finished with value: 0.7646586029473007 and parameters: {'penalty': 'l2', 'solver': 'newton-cholesky', 'C': 0.4, 'max_iter': 3500}. Best is trial 7 with value: 0.7784273109455763.\n"
     ]
    }
   ],
   "source": [
    "# для начала определим функцию которая будет у нас в алгоритме\n",
    "# создаем функцию для работы алгоритма optuna\n",
    "\n",
    "def optuna_optimizer(trial):\n",
    "    penalty = trial.suggest_categorical('penalty', ['l2', 'none'])\n",
    "    solver = trial.suggest_categorical('solver', ['lbfgs', 'newton-cg', 'newton-cholesky', 'sag', 'saga'])\n",
    "    C = trial.suggest_float('C', 0.01, 1, step=0.01) # поиграем немного со значениями\n",
    "    max_iter = trial.suggest_int('max_iter', 1000, 4000, step=250) # продолжим играть со значениями уже на итерациях :)\n",
    "    \n",
    "    log_reg = LogisticRegression(\n",
    "        penalty=penalty,\n",
    "        solver=solver,\n",
    "        C=C,\n",
    "        max_iter=max_iter,\n",
    "        random_state=42  \n",
    "        )\n",
    "    \n",
    "    score = cross_val_score(\n",
    "        estimator=log_reg,\n",
    "        X=X_train,\n",
    "        y=y_train,\n",
    "        cv=5,\n",
    "        scoring='f1',\n",
    "        n_jobs=-1\n",
    "        )\n",
    "\n",
    "    return np.mean(score)\n",
    "\n",
    "study = optuna.create_study(study_name='LogReg_by_optuna', direction='maximize')\n",
    "\n",
    "study.optimize(optuna_optimizer, n_trials=20)"
   ]
  },
  {
   "cell_type": "code",
   "execution_count": 65,
   "metadata": {},
   "outputs": [
    {
     "name": "stderr",
     "output_type": "stream",
     "text": [
      "[I 2024-08-22 22:05:28,407] Trial 20 finished with value: 0.7738689755891965 and parameters: {'penalty': 'l2', 'solver': 'lbfgs', 'C': 0.17, 'max_iter': 1250}. Best is trial 7 with value: 0.7784273109455763.\n",
      "[I 2024-08-22 22:05:31,602] Trial 21 finished with value: 0.7777348723012718 and parameters: {'penalty': 'l2', 'solver': 'newton-cholesky', 'C': 0.13, 'max_iter': 2500}. Best is trial 7 with value: 0.7784273109455763.\n",
      "[I 2024-08-22 22:05:35,214] Trial 22 finished with value: 0.7679035871915195 and parameters: {'penalty': 'l2', 'solver': 'newton-cholesky', 'C': 0.24000000000000002, 'max_iter': 2500}. Best is trial 7 with value: 0.7784273109455763.\n",
      "[I 2024-08-22 22:05:38,282] Trial 23 finished with value: 0.7800725761717234 and parameters: {'penalty': 'l2', 'solver': 'newton-cholesky', 'C': 0.08, 'max_iter': 2250}. Best is trial 23 with value: 0.7800725761717234.\n",
      "[I 2024-08-22 22:05:41,266] Trial 24 finished with value: 0.7777461288275932 and parameters: {'penalty': 'l2', 'solver': 'newton-cholesky', 'C': 0.060000000000000005, 'max_iter': 2000}. Best is trial 23 with value: 0.7800725761717234.\n",
      "[I 2024-08-22 22:05:45,730] Trial 25 finished with value: 0.7646586029473007 and parameters: {'penalty': 'l2', 'solver': 'newton-cg', 'C': 0.4, 'max_iter': 2750}. Best is trial 23 with value: 0.7800725761717234.\n",
      "[I 2024-08-22 22:06:46,747] Trial 26 finished with value: 0.741113558051453 and parameters: {'penalty': 'none', 'solver': 'sag', 'C': 0.22, 'max_iter': 2250}. Best is trial 23 with value: 0.7800725761717234.\n",
      "[I 2024-08-22 22:06:48,419] Trial 27 finished with value: 0.779046174524489 and parameters: {'penalty': 'l2', 'solver': 'lbfgs', 'C': 0.06999999999999999, 'max_iter': 3750}. Best is trial 23 with value: 0.7800725761717234.\n",
      "[I 2024-08-22 22:06:51,179] Trial 28 finished with value: 0.7777461288275932 and parameters: {'penalty': 'l2', 'solver': 'newton-cholesky', 'C': 0.060000000000000005, 'max_iter': 3750}. Best is trial 23 with value: 0.7800725761717234.\n",
      "[I 2024-08-22 22:06:54,597] Trial 29 finished with value: 0.7639335797499655 and parameters: {'penalty': 'l2', 'solver': 'newton-cholesky', 'C': 0.61, 'max_iter': 3750}. Best is trial 23 with value: 0.7800725761717234.\n",
      "[I 2024-08-22 22:06:56,496] Trial 30 finished with value: 0.7815882524730513 and parameters: {'penalty': 'l2', 'solver': 'lbfgs', 'C': 0.09, 'max_iter': 3750}. Best is trial 30 with value: 0.7815882524730513.\n",
      "[I 2024-08-22 22:06:58,189] Trial 31 finished with value: 0.7800725761717234 and parameters: {'penalty': 'l2', 'solver': 'lbfgs', 'C': 0.08, 'max_iter': 3750}. Best is trial 30 with value: 0.7815882524730513.\n",
      "[I 2024-08-22 22:06:59,918] Trial 32 finished with value: 0.7800725761717234 and parameters: {'penalty': 'l2', 'solver': 'lbfgs', 'C': 0.08, 'max_iter': 3750}. Best is trial 30 with value: 0.7815882524730513.\n",
      "[I 2024-08-22 22:07:02,473] Trial 33 finished with value: 0.7689191643219258 and parameters: {'penalty': 'l2', 'solver': 'lbfgs', 'C': 0.21000000000000002, 'max_iter': 4000}. Best is trial 30 with value: 0.7815882524730513.\n",
      "[I 2024-08-22 22:07:08,869] Trial 34 finished with value: 0.7165567903719422 and parameters: {'penalty': 'none', 'solver': 'lbfgs', 'C': 0.01, 'max_iter': 3250}. Best is trial 30 with value: 0.7815882524730513.\n",
      "[I 2024-08-22 22:07:10,786] Trial 35 finished with value: 0.7815882524730513 and parameters: {'penalty': 'l2', 'solver': 'lbfgs', 'C': 0.09, 'max_iter': 3750}. Best is trial 30 with value: 0.7815882524730513.\n",
      "[I 2024-08-22 22:07:14,282] Trial 36 finished with value: 0.7642020816347216 and parameters: {'penalty': 'l2', 'solver': 'lbfgs', 'C': 0.47000000000000003, 'max_iter': 4000}. Best is trial 30 with value: 0.7815882524730513.\n",
      "[I 2024-08-22 22:07:16,830] Trial 37 finished with value: 0.7689191643219258 and parameters: {'penalty': 'l2', 'solver': 'lbfgs', 'C': 0.21000000000000002, 'max_iter': 3500}. Best is trial 30 with value: 0.7815882524730513.\n",
      "[I 2024-08-22 22:07:23,131] Trial 38 finished with value: 0.7165567903719422 and parameters: {'penalty': 'none', 'solver': 'lbfgs', 'C': 0.34, 'max_iter': 2250}. Best is trial 30 with value: 0.7815882524730513.\n",
      "[I 2024-08-22 22:07:25,032] Trial 39 finished with value: 0.7815882524730513 and parameters: {'penalty': 'l2', 'solver': 'lbfgs', 'C': 0.09, 'max_iter': 1750}. Best is trial 30 with value: 0.7815882524730513.\n"
     ]
    },
    {
     "name": "stdout",
     "output_type": "stream",
     "text": [
      "CPU times: total: 266 ms\n",
      "Wall time: 1min 59s\n"
     ]
    }
   ],
   "source": [
    "# попробуем еще 20 итераций \n",
    "\n",
    "%time study.optimize(optuna_optimizer, n_trials=20)"
   ]
  },
  {
   "cell_type": "code",
   "execution_count": 66,
   "metadata": {},
   "outputs": [
    {
     "data": {
      "text/plain": [
       "{'penalty': 'l2', 'solver': 'lbfgs', 'C': 0.09, 'max_iter': 3750}"
      ]
     },
     "execution_count": 66,
     "metadata": {},
     "output_type": "execute_result"
    }
   ],
   "source": [
    "study.best_params"
   ]
  },
  {
   "cell_type": "code",
   "execution_count": 68,
   "metadata": {},
   "outputs": [
    {
     "data": {
      "application/vnd.plotly.v1+json": {
       "config": {
        "plotlyServerURL": "https://plot.ly"
       },
       "data": [
        {
         "mode": "markers",
         "name": "Objective Value",
         "type": "scatter",
         "x": [
          0,
          1,
          2,
          3,
          4,
          5,
          6,
          7,
          8,
          9,
          10,
          11,
          12,
          13,
          14,
          15,
          16,
          17,
          18,
          19,
          20,
          21,
          22,
          23,
          24,
          25,
          26,
          27,
          28,
          29,
          30,
          31,
          32,
          33,
          34,
          35,
          36,
          37,
          38,
          39
         ],
         "y": [
          0.7652200898479752,
          0.7165567903719422,
          0.7738689755891965,
          0.7165567903719422,
          0.7619583570039333,
          0.7596924350173906,
          0.7629566303856062,
          0.7784273109455763,
          0.7510622995815074,
          0.7429644652281903,
          0.7670503541746359,
          0.7679407199827726,
          0.7660758586828943,
          0.7667433283806481,
          0.778252500547002,
          0.7737399011425927,
          0.7656129377385013,
          0.778252500547002,
          0.7165567903719422,
          0.7646586029473007,
          0.7738689755891965,
          0.7777348723012718,
          0.7679035871915195,
          0.7800725761717234,
          0.7777461288275932,
          0.7646586029473007,
          0.741113558051453,
          0.779046174524489,
          0.7777461288275932,
          0.7639335797499655,
          0.7815882524730513,
          0.7800725761717234,
          0.7800725761717234,
          0.7689191643219258,
          0.7165567903719422,
          0.7815882524730513,
          0.7642020816347216,
          0.7689191643219258,
          0.7165567903719422,
          0.7815882524730513
         ]
        },
        {
         "mode": "lines",
         "name": "Best Value",
         "type": "scatter",
         "x": [
          0,
          1,
          2,
          3,
          4,
          5,
          6,
          7,
          8,
          9,
          10,
          11,
          12,
          13,
          14,
          15,
          16,
          17,
          18,
          19,
          20,
          21,
          22,
          23,
          24,
          25,
          26,
          27,
          28,
          29,
          30,
          31,
          32,
          33,
          34,
          35,
          36,
          37,
          38,
          39
         ],
         "y": [
          0.7652200898479752,
          0.7652200898479752,
          0.7738689755891965,
          0.7738689755891965,
          0.7738689755891965,
          0.7738689755891965,
          0.7738689755891965,
          0.7784273109455763,
          0.7784273109455763,
          0.7784273109455763,
          0.7784273109455763,
          0.7784273109455763,
          0.7784273109455763,
          0.7784273109455763,
          0.7784273109455763,
          0.7784273109455763,
          0.7784273109455763,
          0.7784273109455763,
          0.7784273109455763,
          0.7784273109455763,
          0.7784273109455763,
          0.7784273109455763,
          0.7784273109455763,
          0.7800725761717234,
          0.7800725761717234,
          0.7800725761717234,
          0.7800725761717234,
          0.7800725761717234,
          0.7800725761717234,
          0.7800725761717234,
          0.7815882524730513,
          0.7815882524730513,
          0.7815882524730513,
          0.7815882524730513,
          0.7815882524730513,
          0.7815882524730513,
          0.7815882524730513,
          0.7815882524730513,
          0.7815882524730513,
          0.7815882524730513
         ]
        },
        {
         "marker": {
          "color": "#cccccc"
         },
         "mode": "markers",
         "name": "Infeasible Trial",
         "showlegend": false,
         "type": "scatter",
         "x": [],
         "y": []
        }
       ],
       "layout": {
        "template": {
         "data": {
          "bar": [
           {
            "error_x": {
             "color": "#2a3f5f"
            },
            "error_y": {
             "color": "#2a3f5f"
            },
            "marker": {
             "line": {
              "color": "#E5ECF6",
              "width": 0.5
             },
             "pattern": {
              "fillmode": "overlay",
              "size": 10,
              "solidity": 0.2
             }
            },
            "type": "bar"
           }
          ],
          "barpolar": [
           {
            "marker": {
             "line": {
              "color": "#E5ECF6",
              "width": 0.5
             },
             "pattern": {
              "fillmode": "overlay",
              "size": 10,
              "solidity": 0.2
             }
            },
            "type": "barpolar"
           }
          ],
          "carpet": [
           {
            "aaxis": {
             "endlinecolor": "#2a3f5f",
             "gridcolor": "white",
             "linecolor": "white",
             "minorgridcolor": "white",
             "startlinecolor": "#2a3f5f"
            },
            "baxis": {
             "endlinecolor": "#2a3f5f",
             "gridcolor": "white",
             "linecolor": "white",
             "minorgridcolor": "white",
             "startlinecolor": "#2a3f5f"
            },
            "type": "carpet"
           }
          ],
          "choropleth": [
           {
            "colorbar": {
             "outlinewidth": 0,
             "ticks": ""
            },
            "type": "choropleth"
           }
          ],
          "contour": [
           {
            "colorbar": {
             "outlinewidth": 0,
             "ticks": ""
            },
            "colorscale": [
             [
              0,
              "#0d0887"
             ],
             [
              0.1111111111111111,
              "#46039f"
             ],
             [
              0.2222222222222222,
              "#7201a8"
             ],
             [
              0.3333333333333333,
              "#9c179e"
             ],
             [
              0.4444444444444444,
              "#bd3786"
             ],
             [
              0.5555555555555556,
              "#d8576b"
             ],
             [
              0.6666666666666666,
              "#ed7953"
             ],
             [
              0.7777777777777778,
              "#fb9f3a"
             ],
             [
              0.8888888888888888,
              "#fdca26"
             ],
             [
              1,
              "#f0f921"
             ]
            ],
            "type": "contour"
           }
          ],
          "contourcarpet": [
           {
            "colorbar": {
             "outlinewidth": 0,
             "ticks": ""
            },
            "type": "contourcarpet"
           }
          ],
          "heatmap": [
           {
            "colorbar": {
             "outlinewidth": 0,
             "ticks": ""
            },
            "colorscale": [
             [
              0,
              "#0d0887"
             ],
             [
              0.1111111111111111,
              "#46039f"
             ],
             [
              0.2222222222222222,
              "#7201a8"
             ],
             [
              0.3333333333333333,
              "#9c179e"
             ],
             [
              0.4444444444444444,
              "#bd3786"
             ],
             [
              0.5555555555555556,
              "#d8576b"
             ],
             [
              0.6666666666666666,
              "#ed7953"
             ],
             [
              0.7777777777777778,
              "#fb9f3a"
             ],
             [
              0.8888888888888888,
              "#fdca26"
             ],
             [
              1,
              "#f0f921"
             ]
            ],
            "type": "heatmap"
           }
          ],
          "heatmapgl": [
           {
            "colorbar": {
             "outlinewidth": 0,
             "ticks": ""
            },
            "colorscale": [
             [
              0,
              "#0d0887"
             ],
             [
              0.1111111111111111,
              "#46039f"
             ],
             [
              0.2222222222222222,
              "#7201a8"
             ],
             [
              0.3333333333333333,
              "#9c179e"
             ],
             [
              0.4444444444444444,
              "#bd3786"
             ],
             [
              0.5555555555555556,
              "#d8576b"
             ],
             [
              0.6666666666666666,
              "#ed7953"
             ],
             [
              0.7777777777777778,
              "#fb9f3a"
             ],
             [
              0.8888888888888888,
              "#fdca26"
             ],
             [
              1,
              "#f0f921"
             ]
            ],
            "type": "heatmapgl"
           }
          ],
          "histogram": [
           {
            "marker": {
             "pattern": {
              "fillmode": "overlay",
              "size": 10,
              "solidity": 0.2
             }
            },
            "type": "histogram"
           }
          ],
          "histogram2d": [
           {
            "colorbar": {
             "outlinewidth": 0,
             "ticks": ""
            },
            "colorscale": [
             [
              0,
              "#0d0887"
             ],
             [
              0.1111111111111111,
              "#46039f"
             ],
             [
              0.2222222222222222,
              "#7201a8"
             ],
             [
              0.3333333333333333,
              "#9c179e"
             ],
             [
              0.4444444444444444,
              "#bd3786"
             ],
             [
              0.5555555555555556,
              "#d8576b"
             ],
             [
              0.6666666666666666,
              "#ed7953"
             ],
             [
              0.7777777777777778,
              "#fb9f3a"
             ],
             [
              0.8888888888888888,
              "#fdca26"
             ],
             [
              1,
              "#f0f921"
             ]
            ],
            "type": "histogram2d"
           }
          ],
          "histogram2dcontour": [
           {
            "colorbar": {
             "outlinewidth": 0,
             "ticks": ""
            },
            "colorscale": [
             [
              0,
              "#0d0887"
             ],
             [
              0.1111111111111111,
              "#46039f"
             ],
             [
              0.2222222222222222,
              "#7201a8"
             ],
             [
              0.3333333333333333,
              "#9c179e"
             ],
             [
              0.4444444444444444,
              "#bd3786"
             ],
             [
              0.5555555555555556,
              "#d8576b"
             ],
             [
              0.6666666666666666,
              "#ed7953"
             ],
             [
              0.7777777777777778,
              "#fb9f3a"
             ],
             [
              0.8888888888888888,
              "#fdca26"
             ],
             [
              1,
              "#f0f921"
             ]
            ],
            "type": "histogram2dcontour"
           }
          ],
          "mesh3d": [
           {
            "colorbar": {
             "outlinewidth": 0,
             "ticks": ""
            },
            "type": "mesh3d"
           }
          ],
          "parcoords": [
           {
            "line": {
             "colorbar": {
              "outlinewidth": 0,
              "ticks": ""
             }
            },
            "type": "parcoords"
           }
          ],
          "pie": [
           {
            "automargin": true,
            "type": "pie"
           }
          ],
          "scatter": [
           {
            "fillpattern": {
             "fillmode": "overlay",
             "size": 10,
             "solidity": 0.2
            },
            "type": "scatter"
           }
          ],
          "scatter3d": [
           {
            "line": {
             "colorbar": {
              "outlinewidth": 0,
              "ticks": ""
             }
            },
            "marker": {
             "colorbar": {
              "outlinewidth": 0,
              "ticks": ""
             }
            },
            "type": "scatter3d"
           }
          ],
          "scattercarpet": [
           {
            "marker": {
             "colorbar": {
              "outlinewidth": 0,
              "ticks": ""
             }
            },
            "type": "scattercarpet"
           }
          ],
          "scattergeo": [
           {
            "marker": {
             "colorbar": {
              "outlinewidth": 0,
              "ticks": ""
             }
            },
            "type": "scattergeo"
           }
          ],
          "scattergl": [
           {
            "marker": {
             "colorbar": {
              "outlinewidth": 0,
              "ticks": ""
             }
            },
            "type": "scattergl"
           }
          ],
          "scattermapbox": [
           {
            "marker": {
             "colorbar": {
              "outlinewidth": 0,
              "ticks": ""
             }
            },
            "type": "scattermapbox"
           }
          ],
          "scatterpolar": [
           {
            "marker": {
             "colorbar": {
              "outlinewidth": 0,
              "ticks": ""
             }
            },
            "type": "scatterpolar"
           }
          ],
          "scatterpolargl": [
           {
            "marker": {
             "colorbar": {
              "outlinewidth": 0,
              "ticks": ""
             }
            },
            "type": "scatterpolargl"
           }
          ],
          "scatterternary": [
           {
            "marker": {
             "colorbar": {
              "outlinewidth": 0,
              "ticks": ""
             }
            },
            "type": "scatterternary"
           }
          ],
          "surface": [
           {
            "colorbar": {
             "outlinewidth": 0,
             "ticks": ""
            },
            "colorscale": [
             [
              0,
              "#0d0887"
             ],
             [
              0.1111111111111111,
              "#46039f"
             ],
             [
              0.2222222222222222,
              "#7201a8"
             ],
             [
              0.3333333333333333,
              "#9c179e"
             ],
             [
              0.4444444444444444,
              "#bd3786"
             ],
             [
              0.5555555555555556,
              "#d8576b"
             ],
             [
              0.6666666666666666,
              "#ed7953"
             ],
             [
              0.7777777777777778,
              "#fb9f3a"
             ],
             [
              0.8888888888888888,
              "#fdca26"
             ],
             [
              1,
              "#f0f921"
             ]
            ],
            "type": "surface"
           }
          ],
          "table": [
           {
            "cells": {
             "fill": {
              "color": "#EBF0F8"
             },
             "line": {
              "color": "white"
             }
            },
            "header": {
             "fill": {
              "color": "#C8D4E3"
             },
             "line": {
              "color": "white"
             }
            },
            "type": "table"
           }
          ]
         },
         "layout": {
          "annotationdefaults": {
           "arrowcolor": "#2a3f5f",
           "arrowhead": 0,
           "arrowwidth": 1
          },
          "autotypenumbers": "strict",
          "coloraxis": {
           "colorbar": {
            "outlinewidth": 0,
            "ticks": ""
           }
          },
          "colorscale": {
           "diverging": [
            [
             0,
             "#8e0152"
            ],
            [
             0.1,
             "#c51b7d"
            ],
            [
             0.2,
             "#de77ae"
            ],
            [
             0.3,
             "#f1b6da"
            ],
            [
             0.4,
             "#fde0ef"
            ],
            [
             0.5,
             "#f7f7f7"
            ],
            [
             0.6,
             "#e6f5d0"
            ],
            [
             0.7,
             "#b8e186"
            ],
            [
             0.8,
             "#7fbc41"
            ],
            [
             0.9,
             "#4d9221"
            ],
            [
             1,
             "#276419"
            ]
           ],
           "sequential": [
            [
             0,
             "#0d0887"
            ],
            [
             0.1111111111111111,
             "#46039f"
            ],
            [
             0.2222222222222222,
             "#7201a8"
            ],
            [
             0.3333333333333333,
             "#9c179e"
            ],
            [
             0.4444444444444444,
             "#bd3786"
            ],
            [
             0.5555555555555556,
             "#d8576b"
            ],
            [
             0.6666666666666666,
             "#ed7953"
            ],
            [
             0.7777777777777778,
             "#fb9f3a"
            ],
            [
             0.8888888888888888,
             "#fdca26"
            ],
            [
             1,
             "#f0f921"
            ]
           ],
           "sequentialminus": [
            [
             0,
             "#0d0887"
            ],
            [
             0.1111111111111111,
             "#46039f"
            ],
            [
             0.2222222222222222,
             "#7201a8"
            ],
            [
             0.3333333333333333,
             "#9c179e"
            ],
            [
             0.4444444444444444,
             "#bd3786"
            ],
            [
             0.5555555555555556,
             "#d8576b"
            ],
            [
             0.6666666666666666,
             "#ed7953"
            ],
            [
             0.7777777777777778,
             "#fb9f3a"
            ],
            [
             0.8888888888888888,
             "#fdca26"
            ],
            [
             1,
             "#f0f921"
            ]
           ]
          },
          "colorway": [
           "#636efa",
           "#EF553B",
           "#00cc96",
           "#ab63fa",
           "#FFA15A",
           "#19d3f3",
           "#FF6692",
           "#B6E880",
           "#FF97FF",
           "#FECB52"
          ],
          "font": {
           "color": "#2a3f5f"
          },
          "geo": {
           "bgcolor": "white",
           "lakecolor": "white",
           "landcolor": "#E5ECF6",
           "showlakes": true,
           "showland": true,
           "subunitcolor": "white"
          },
          "hoverlabel": {
           "align": "left"
          },
          "hovermode": "closest",
          "mapbox": {
           "style": "light"
          },
          "paper_bgcolor": "white",
          "plot_bgcolor": "#E5ECF6",
          "polar": {
           "angularaxis": {
            "gridcolor": "white",
            "linecolor": "white",
            "ticks": ""
           },
           "bgcolor": "#E5ECF6",
           "radialaxis": {
            "gridcolor": "white",
            "linecolor": "white",
            "ticks": ""
           }
          },
          "scene": {
           "xaxis": {
            "backgroundcolor": "#E5ECF6",
            "gridcolor": "white",
            "gridwidth": 2,
            "linecolor": "white",
            "showbackground": true,
            "ticks": "",
            "zerolinecolor": "white"
           },
           "yaxis": {
            "backgroundcolor": "#E5ECF6",
            "gridcolor": "white",
            "gridwidth": 2,
            "linecolor": "white",
            "showbackground": true,
            "ticks": "",
            "zerolinecolor": "white"
           },
           "zaxis": {
            "backgroundcolor": "#E5ECF6",
            "gridcolor": "white",
            "gridwidth": 2,
            "linecolor": "white",
            "showbackground": true,
            "ticks": "",
            "zerolinecolor": "white"
           }
          },
          "shapedefaults": {
           "line": {
            "color": "#2a3f5f"
           }
          },
          "ternary": {
           "aaxis": {
            "gridcolor": "white",
            "linecolor": "white",
            "ticks": ""
           },
           "baxis": {
            "gridcolor": "white",
            "linecolor": "white",
            "ticks": ""
           },
           "bgcolor": "#E5ECF6",
           "caxis": {
            "gridcolor": "white",
            "linecolor": "white",
            "ticks": ""
           }
          },
          "title": {
           "x": 0.05
          },
          "xaxis": {
           "automargin": true,
           "gridcolor": "white",
           "linecolor": "white",
           "ticks": "",
           "title": {
            "standoff": 15
           },
           "zerolinecolor": "white",
           "zerolinewidth": 2
          },
          "yaxis": {
           "automargin": true,
           "gridcolor": "white",
           "linecolor": "white",
           "ticks": "",
           "title": {
            "standoff": 15
           },
           "zerolinecolor": "white",
           "zerolinewidth": 2
          }
         }
        },
        "title": {
         "text": "Optimization History Plot"
        },
        "xaxis": {
         "title": {
          "text": "Trial"
         }
        },
        "yaxis": {
         "title": {
          "text": "Objective Value"
         }
        }
       }
      }
     },
     "metadata": {},
     "output_type": "display_data"
    }
   ],
   "source": [
    "# визуализируем результаты оптимизации\n",
    "optuna.visualization.plot_optimization_history(study)"
   ]
  },
  {
   "cell_type": "code",
   "execution_count": 71,
   "metadata": {},
   "outputs": [
    {
     "name": "stdout",
     "output_type": "stream",
     "text": [
      "Результаты метрики f1 на оптимизаторе optuna для алгоритма LogisticRegression 0.79\n"
     ]
    }
   ],
   "source": [
    "\n",
    "log_reg_optuna = LogisticRegression(**study.best_params, random_state=42)\n",
    "log_reg_optuna.fit(X_train, y_train)\n",
    "y_pred_optuna_logreg = log_reg_optuna.predict(X_test)\n",
    "\n",
    "optuna_f1_score_logreg = np.round(f1_score(y_test, y_pred_optuna_logreg), 2)\n",
    "\n",
    "print('Результаты метрики f1 на оптимизаторе optuna для алгоритма LogisticRegression {}'\n",
    "      .format(optuna_f1_score_logreg))"
   ]
  },
  {
   "cell_type": "markdown",
   "metadata": {},
   "source": [
    "## Оптимизация модели RandomForestClassifier"
   ]
  },
  {
   "cell_type": "code",
   "execution_count": 7,
   "metadata": {},
   "outputs": [
    {
     "name": "stdout",
     "output_type": "stream",
     "text": [
      "Метрика f1 на базовой модели RandomForestClassifier 0.82\n"
     ]
    }
   ],
   "source": [
    "# создадим базовую модель и обучим ее\n",
    "\n",
    "rnd_clf = RandomForestClassifier(random_state=42)\n",
    "\n",
    "rnd_clf.fit(X_train, y_train)\n",
    "\n",
    "y_pred_rnd = rnd_clf.predict(X_test)\n",
    "\n",
    "rnd_f1_score = np.round(f1_score(y_test, y_pred_rnd), 2)\n",
    "\n",
    "print('Метрика f1 на базовой модели RandomForestClassifier {}'\n",
    "      .format(rnd_f1_score))"
   ]
  },
  {
   "cell_type": "markdown",
   "metadata": {},
   "source": [
    "оптимизация с помощью GridSearchCV"
   ]
  },
  {
   "cell_type": "code",
   "execution_count": 53,
   "metadata": {},
   "outputs": [],
   "source": [
    "# создадим переменную estimator в которой сохраним базовые настройки модели\n",
    "\n",
    "estimator = RandomForestClassifier(random_state=42)"
   ]
  },
  {
   "cell_type": "code",
   "execution_count": 58,
   "metadata": {},
   "outputs": [
    {
     "name": "stdout",
     "output_type": "stream",
     "text": [
      "CPU times: total: 5.11 s\n",
      "Wall time: 1min 27s\n"
     ]
    },
    {
     "data": {
      "text/html": [
       "<style>#sk-container-id-7 {color: black;}#sk-container-id-7 pre{padding: 0;}#sk-container-id-7 div.sk-toggleable {background-color: white;}#sk-container-id-7 label.sk-toggleable__label {cursor: pointer;display: block;width: 100%;margin-bottom: 0;padding: 0.3em;box-sizing: border-box;text-align: center;}#sk-container-id-7 label.sk-toggleable__label-arrow:before {content: \"▸\";float: left;margin-right: 0.25em;color: #696969;}#sk-container-id-7 label.sk-toggleable__label-arrow:hover:before {color: black;}#sk-container-id-7 div.sk-estimator:hover label.sk-toggleable__label-arrow:before {color: black;}#sk-container-id-7 div.sk-toggleable__content {max-height: 0;max-width: 0;overflow: hidden;text-align: left;background-color: #f0f8ff;}#sk-container-id-7 div.sk-toggleable__content pre {margin: 0.2em;color: black;border-radius: 0.25em;background-color: #f0f8ff;}#sk-container-id-7 input.sk-toggleable__control:checked~div.sk-toggleable__content {max-height: 200px;max-width: 100%;overflow: auto;}#sk-container-id-7 input.sk-toggleable__control:checked~label.sk-toggleable__label-arrow:before {content: \"▾\";}#sk-container-id-7 div.sk-estimator input.sk-toggleable__control:checked~label.sk-toggleable__label {background-color: #d4ebff;}#sk-container-id-7 div.sk-label input.sk-toggleable__control:checked~label.sk-toggleable__label {background-color: #d4ebff;}#sk-container-id-7 input.sk-hidden--visually {border: 0;clip: rect(1px 1px 1px 1px);clip: rect(1px, 1px, 1px, 1px);height: 1px;margin: -1px;overflow: hidden;padding: 0;position: absolute;width: 1px;}#sk-container-id-7 div.sk-estimator {font-family: monospace;background-color: #f0f8ff;border: 1px dotted black;border-radius: 0.25em;box-sizing: border-box;margin-bottom: 0.5em;}#sk-container-id-7 div.sk-estimator:hover {background-color: #d4ebff;}#sk-container-id-7 div.sk-parallel-item::after {content: \"\";width: 100%;border-bottom: 1px solid gray;flex-grow: 1;}#sk-container-id-7 div.sk-label:hover label.sk-toggleable__label {background-color: #d4ebff;}#sk-container-id-7 div.sk-serial::before {content: \"\";position: absolute;border-left: 1px solid gray;box-sizing: border-box;top: 0;bottom: 0;left: 50%;z-index: 0;}#sk-container-id-7 div.sk-serial {display: flex;flex-direction: column;align-items: center;background-color: white;padding-right: 0.2em;padding-left: 0.2em;position: relative;}#sk-container-id-7 div.sk-item {position: relative;z-index: 1;}#sk-container-id-7 div.sk-parallel {display: flex;align-items: stretch;justify-content: center;background-color: white;position: relative;}#sk-container-id-7 div.sk-item::before, #sk-container-id-7 div.sk-parallel-item::before {content: \"\";position: absolute;border-left: 1px solid gray;box-sizing: border-box;top: 0;bottom: 0;left: 50%;z-index: -1;}#sk-container-id-7 div.sk-parallel-item {display: flex;flex-direction: column;z-index: 1;position: relative;background-color: white;}#sk-container-id-7 div.sk-parallel-item:first-child::after {align-self: flex-end;width: 50%;}#sk-container-id-7 div.sk-parallel-item:last-child::after {align-self: flex-start;width: 50%;}#sk-container-id-7 div.sk-parallel-item:only-child::after {width: 0;}#sk-container-id-7 div.sk-dashed-wrapped {border: 1px dashed gray;margin: 0 0.4em 0.5em 0.4em;box-sizing: border-box;padding-bottom: 0.4em;background-color: white;}#sk-container-id-7 div.sk-label label {font-family: monospace;font-weight: bold;display: inline-block;line-height: 1.2em;}#sk-container-id-7 div.sk-label-container {text-align: center;}#sk-container-id-7 div.sk-container {/* jupyter's `normalize.less` sets `[hidden] { display: none; }` but bootstrap.min.css set `[hidden] { display: none !important; }` so we also need the `!important` here to be able to override the default hidden behavior on the sphinx rendered scikit-learn.org. See: https://github.com/scikit-learn/scikit-learn/issues/21755 */display: inline-block !important;position: relative;}#sk-container-id-7 div.sk-text-repr-fallback {display: none;}</style><div id=\"sk-container-id-7\" class=\"sk-top-container\"><div class=\"sk-text-repr-fallback\"><pre>GridSearchCV(cv=5, estimator=RandomForestClassifier(random_state=42), n_jobs=-1,\n",
       "             param_grid={&#x27;criterion&#x27;: [&#x27;gini&#x27;, &#x27;entropy&#x27;],\n",
       "                         &#x27;max_depth&#x27;: [1, 4, 7, 10, 13, 17, 20, 23, 26, 30],\n",
       "                         &#x27;min_samples_leaf&#x27;: [5, 15, 26, 36, 47, 57, 68, 78, 89,\n",
       "                                              100]})</pre><b>In a Jupyter environment, please rerun this cell to show the HTML representation or trust the notebook. <br />On GitHub, the HTML representation is unable to render, please try loading this page with nbviewer.org.</b></div><div class=\"sk-container\" hidden><div class=\"sk-item sk-dashed-wrapped\"><div class=\"sk-label-container\"><div class=\"sk-label sk-toggleable\"><input class=\"sk-toggleable__control sk-hidden--visually\" id=\"sk-estimator-id-19\" type=\"checkbox\" ><label for=\"sk-estimator-id-19\" class=\"sk-toggleable__label sk-toggleable__label-arrow\">GridSearchCV</label><div class=\"sk-toggleable__content\"><pre>GridSearchCV(cv=5, estimator=RandomForestClassifier(random_state=42), n_jobs=-1,\n",
       "             param_grid={&#x27;criterion&#x27;: [&#x27;gini&#x27;, &#x27;entropy&#x27;],\n",
       "                         &#x27;max_depth&#x27;: [1, 4, 7, 10, 13, 17, 20, 23, 26, 30],\n",
       "                         &#x27;min_samples_leaf&#x27;: [5, 15, 26, 36, 47, 57, 68, 78, 89,\n",
       "                                              100]})</pre></div></div></div><div class=\"sk-parallel\"><div class=\"sk-parallel-item\"><div class=\"sk-item\"><div class=\"sk-label-container\"><div class=\"sk-label sk-toggleable\"><input class=\"sk-toggleable__control sk-hidden--visually\" id=\"sk-estimator-id-20\" type=\"checkbox\" ><label for=\"sk-estimator-id-20\" class=\"sk-toggleable__label sk-toggleable__label-arrow\">estimator: RandomForestClassifier</label><div class=\"sk-toggleable__content\"><pre>RandomForestClassifier(random_state=42)</pre></div></div></div><div class=\"sk-serial\"><div class=\"sk-item\"><div class=\"sk-estimator sk-toggleable\"><input class=\"sk-toggleable__control sk-hidden--visually\" id=\"sk-estimator-id-21\" type=\"checkbox\" ><label for=\"sk-estimator-id-21\" class=\"sk-toggleable__label sk-toggleable__label-arrow\">RandomForestClassifier</label><div class=\"sk-toggleable__content\"><pre>RandomForestClassifier(random_state=42)</pre></div></div></div></div></div></div></div></div></div></div>"
      ],
      "text/plain": [
       "GridSearchCV(cv=5, estimator=RandomForestClassifier(random_state=42), n_jobs=-1,\n",
       "             param_grid={'criterion': ['gini', 'entropy'],\n",
       "                         'max_depth': [1, 4, 7, 10, 13, 17, 20, 23, 26, 30],\n",
       "                         'min_samples_leaf': [5, 15, 26, 36, 47, 57, 68, 78, 89,\n",
       "                                              100]})"
      ]
     },
     "execution_count": 58,
     "metadata": {},
     "output_type": "execute_result"
    }
   ],
   "source": [
    "param_rand_forest_dict = {\n",
    "                    'min_samples_leaf': list(np.linspace(5, 100, 10, dtype=int)),\n",
    "                    'criterion': ['gini', 'entropy'],\n",
    "                    'max_depth': list(np.linspace(1, 30, 10, dtype=int))\n",
    "}\n",
    "\n",
    "grid_rnd_frst = GridSearchCV(\n",
    "        estimator=estimator,\n",
    "        param_grid=param_rand_forest_dict,\n",
    "        cv=5,\n",
    "        n_jobs=-1,\n",
    ")\n",
    "\n",
    "%time grid_rnd_frst.fit(X_train, y_train)"
   ]
  },
  {
   "cell_type": "code",
   "execution_count": 59,
   "metadata": {},
   "outputs": [
    {
     "data": {
      "text/plain": [
       "{'criterion': 'entropy', 'max_depth': 17, 'min_samples_leaf': 5}"
      ]
     },
     "execution_count": 59,
     "metadata": {},
     "output_type": "execute_result"
    }
   ],
   "source": [
    "grid_rnd_frst.best_params_"
   ]
  },
  {
   "cell_type": "code",
   "execution_count": 60,
   "metadata": {},
   "outputs": [
    {
     "name": "stdout",
     "output_type": "stream",
     "text": [
      "Метрика f1 на параметрах подобранных GridSearch для RandomForestClassifier 0.81\n"
     ]
    }
   ],
   "source": [
    "# обучим на подобранных параметрах и проверим метрику\n",
    "\n",
    "y_grid_search_rnd = grid_rnd_frst.predict(X_test)\n",
    "\n",
    "rnd_grid_f1_score = round(f1_score(y_test, y_grid_search_rnd), 2)\n",
    "\n",
    "print('Метрика f1 на параметрах подобранных GridSearch для RandomForestClassifier {}'\n",
    "      .format(rnd_grid_f1_score))"
   ]
  },
  {
   "cell_type": "markdown",
   "metadata": {},
   "source": [
    "оптимизация с помощью RandomizedSearchCV"
   ]
  },
  {
   "cell_type": "code",
   "execution_count": 29,
   "metadata": {},
   "outputs": [
    {
     "name": "stdout",
     "output_type": "stream",
     "text": [
      "CPU times: total: 1.3 s\n",
      "Wall time: 7.37 s\n"
     ]
    },
    {
     "data": {
      "text/html": [
       "<style>#sk-container-id-6 {color: black;}#sk-container-id-6 pre{padding: 0;}#sk-container-id-6 div.sk-toggleable {background-color: white;}#sk-container-id-6 label.sk-toggleable__label {cursor: pointer;display: block;width: 100%;margin-bottom: 0;padding: 0.3em;box-sizing: border-box;text-align: center;}#sk-container-id-6 label.sk-toggleable__label-arrow:before {content: \"▸\";float: left;margin-right: 0.25em;color: #696969;}#sk-container-id-6 label.sk-toggleable__label-arrow:hover:before {color: black;}#sk-container-id-6 div.sk-estimator:hover label.sk-toggleable__label-arrow:before {color: black;}#sk-container-id-6 div.sk-toggleable__content {max-height: 0;max-width: 0;overflow: hidden;text-align: left;background-color: #f0f8ff;}#sk-container-id-6 div.sk-toggleable__content pre {margin: 0.2em;color: black;border-radius: 0.25em;background-color: #f0f8ff;}#sk-container-id-6 input.sk-toggleable__control:checked~div.sk-toggleable__content {max-height: 200px;max-width: 100%;overflow: auto;}#sk-container-id-6 input.sk-toggleable__control:checked~label.sk-toggleable__label-arrow:before {content: \"▾\";}#sk-container-id-6 div.sk-estimator input.sk-toggleable__control:checked~label.sk-toggleable__label {background-color: #d4ebff;}#sk-container-id-6 div.sk-label input.sk-toggleable__control:checked~label.sk-toggleable__label {background-color: #d4ebff;}#sk-container-id-6 input.sk-hidden--visually {border: 0;clip: rect(1px 1px 1px 1px);clip: rect(1px, 1px, 1px, 1px);height: 1px;margin: -1px;overflow: hidden;padding: 0;position: absolute;width: 1px;}#sk-container-id-6 div.sk-estimator {font-family: monospace;background-color: #f0f8ff;border: 1px dotted black;border-radius: 0.25em;box-sizing: border-box;margin-bottom: 0.5em;}#sk-container-id-6 div.sk-estimator:hover {background-color: #d4ebff;}#sk-container-id-6 div.sk-parallel-item::after {content: \"\";width: 100%;border-bottom: 1px solid gray;flex-grow: 1;}#sk-container-id-6 div.sk-label:hover label.sk-toggleable__label {background-color: #d4ebff;}#sk-container-id-6 div.sk-serial::before {content: \"\";position: absolute;border-left: 1px solid gray;box-sizing: border-box;top: 0;bottom: 0;left: 50%;z-index: 0;}#sk-container-id-6 div.sk-serial {display: flex;flex-direction: column;align-items: center;background-color: white;padding-right: 0.2em;padding-left: 0.2em;position: relative;}#sk-container-id-6 div.sk-item {position: relative;z-index: 1;}#sk-container-id-6 div.sk-parallel {display: flex;align-items: stretch;justify-content: center;background-color: white;position: relative;}#sk-container-id-6 div.sk-item::before, #sk-container-id-6 div.sk-parallel-item::before {content: \"\";position: absolute;border-left: 1px solid gray;box-sizing: border-box;top: 0;bottom: 0;left: 50%;z-index: -1;}#sk-container-id-6 div.sk-parallel-item {display: flex;flex-direction: column;z-index: 1;position: relative;background-color: white;}#sk-container-id-6 div.sk-parallel-item:first-child::after {align-self: flex-end;width: 50%;}#sk-container-id-6 div.sk-parallel-item:last-child::after {align-self: flex-start;width: 50%;}#sk-container-id-6 div.sk-parallel-item:only-child::after {width: 0;}#sk-container-id-6 div.sk-dashed-wrapped {border: 1px dashed gray;margin: 0 0.4em 0.5em 0.4em;box-sizing: border-box;padding-bottom: 0.4em;background-color: white;}#sk-container-id-6 div.sk-label label {font-family: monospace;font-weight: bold;display: inline-block;line-height: 1.2em;}#sk-container-id-6 div.sk-label-container {text-align: center;}#sk-container-id-6 div.sk-container {/* jupyter's `normalize.less` sets `[hidden] { display: none; }` but bootstrap.min.css set `[hidden] { display: none !important; }` so we also need the `!important` here to be able to override the default hidden behavior on the sphinx rendered scikit-learn.org. See: https://github.com/scikit-learn/scikit-learn/issues/21755 */display: inline-block !important;position: relative;}#sk-container-id-6 div.sk-text-repr-fallback {display: none;}</style><div id=\"sk-container-id-6\" class=\"sk-top-container\"><div class=\"sk-text-repr-fallback\"><pre>RandomizedSearchCV(cv=5, estimator=RandomForestClassifier(random_state=42),\n",
       "                   n_jobs=-1,\n",
       "                   param_distributions={&#x27;criterion&#x27;: [&#x27;gini&#x27;, &#x27;entropy&#x27;],\n",
       "                                        &#x27;max_depth&#x27;: [1, 2, 3, 4, 5, 6, 7, 8, 9,\n",
       "                                                      10, 11, 12, 13, 14, 15,\n",
       "                                                      16, 17, 18, 19, 20, 21,\n",
       "                                                      22, 23, 24, 25, 26, 27,\n",
       "                                                      28, 29, 30],\n",
       "                                        &#x27;min_samples_leaf&#x27;: [5, 10, 15, 20, 25,\n",
       "                                                             30, 35, 40, 45, 50,\n",
       "                                                             55, 60, 65, 70, 75,\n",
       "                                                             80, 85, 90, 95,\n",
       "                                                             100]},\n",
       "                   random_state=42, scoring=&#x27;f1&#x27;)</pre><b>In a Jupyter environment, please rerun this cell to show the HTML representation or trust the notebook. <br />On GitHub, the HTML representation is unable to render, please try loading this page with nbviewer.org.</b></div><div class=\"sk-container\" hidden><div class=\"sk-item sk-dashed-wrapped\"><div class=\"sk-label-container\"><div class=\"sk-label sk-toggleable\"><input class=\"sk-toggleable__control sk-hidden--visually\" id=\"sk-estimator-id-16\" type=\"checkbox\" ><label for=\"sk-estimator-id-16\" class=\"sk-toggleable__label sk-toggleable__label-arrow\">RandomizedSearchCV</label><div class=\"sk-toggleable__content\"><pre>RandomizedSearchCV(cv=5, estimator=RandomForestClassifier(random_state=42),\n",
       "                   n_jobs=-1,\n",
       "                   param_distributions={&#x27;criterion&#x27;: [&#x27;gini&#x27;, &#x27;entropy&#x27;],\n",
       "                                        &#x27;max_depth&#x27;: [1, 2, 3, 4, 5, 6, 7, 8, 9,\n",
       "                                                      10, 11, 12, 13, 14, 15,\n",
       "                                                      16, 17, 18, 19, 20, 21,\n",
       "                                                      22, 23, 24, 25, 26, 27,\n",
       "                                                      28, 29, 30],\n",
       "                                        &#x27;min_samples_leaf&#x27;: [5, 10, 15, 20, 25,\n",
       "                                                             30, 35, 40, 45, 50,\n",
       "                                                             55, 60, 65, 70, 75,\n",
       "                                                             80, 85, 90, 95,\n",
       "                                                             100]},\n",
       "                   random_state=42, scoring=&#x27;f1&#x27;)</pre></div></div></div><div class=\"sk-parallel\"><div class=\"sk-parallel-item\"><div class=\"sk-item\"><div class=\"sk-label-container\"><div class=\"sk-label sk-toggleable\"><input class=\"sk-toggleable__control sk-hidden--visually\" id=\"sk-estimator-id-17\" type=\"checkbox\" ><label for=\"sk-estimator-id-17\" class=\"sk-toggleable__label sk-toggleable__label-arrow\">estimator: RandomForestClassifier</label><div class=\"sk-toggleable__content\"><pre>RandomForestClassifier(random_state=42)</pre></div></div></div><div class=\"sk-serial\"><div class=\"sk-item\"><div class=\"sk-estimator sk-toggleable\"><input class=\"sk-toggleable__control sk-hidden--visually\" id=\"sk-estimator-id-18\" type=\"checkbox\" ><label for=\"sk-estimator-id-18\" class=\"sk-toggleable__label sk-toggleable__label-arrow\">RandomForestClassifier</label><div class=\"sk-toggleable__content\"><pre>RandomForestClassifier(random_state=42)</pre></div></div></div></div></div></div></div></div></div></div>"
      ],
      "text/plain": [
       "RandomizedSearchCV(cv=5, estimator=RandomForestClassifier(random_state=42),\n",
       "                   n_jobs=-1,\n",
       "                   param_distributions={'criterion': ['gini', 'entropy'],\n",
       "                                        'max_depth': [1, 2, 3, 4, 5, 6, 7, 8, 9,\n",
       "                                                      10, 11, 12, 13, 14, 15,\n",
       "                                                      16, 17, 18, 19, 20, 21,\n",
       "                                                      22, 23, 24, 25, 26, 27,\n",
       "                                                      28, 29, 30],\n",
       "                                        'min_samples_leaf': [5, 10, 15, 20, 25,\n",
       "                                                             30, 35, 40, 45, 50,\n",
       "                                                             55, 60, 65, 70, 75,\n",
       "                                                             80, 85, 90, 95,\n",
       "                                                             100]},\n",
       "                   random_state=42, scoring='f1')"
      ]
     },
     "execution_count": 29,
     "metadata": {},
     "output_type": "execute_result"
    }
   ],
   "source": [
    "\n",
    "param_distr_dict = {'min_samples_leaf': list(np.linspace(5, 100, 20, dtype=int)), \n",
    "                    'criterion': ['gini', 'entropy'],\n",
    "                    'max_depth': list(np.linspace(1, 30, 30, dtype=int))\n",
    "}\n",
    "\n",
    "rand_cv_rnd_frst = RandomizedSearchCV(\n",
    "        estimator=estimator,\n",
    "        param_distributions=param_distr_dict,\n",
    "        scoring='f1',\n",
    "        cv=5,\n",
    "        n_jobs=-1,\n",
    "        random_state=42)\n",
    "\n",
    "%time rand_cv_rnd_frst.fit(X_train, y_train)"
   ]
  },
  {
   "cell_type": "code",
   "execution_count": 30,
   "metadata": {},
   "outputs": [
    {
     "data": {
      "text/plain": [
       "{'min_samples_leaf': 5, 'max_depth': 14, 'criterion': 'entropy'}"
      ]
     },
     "execution_count": 30,
     "metadata": {},
     "output_type": "execute_result"
    }
   ],
   "source": [
    "rand_cv_rnd_frst.best_params_"
   ]
  },
  {
   "cell_type": "code",
   "execution_count": 33,
   "metadata": {},
   "outputs": [
    {
     "name": "stdout",
     "output_type": "stream",
     "text": [
      "Метрика f1 на параметрах подобранных GridSearch для RandomForestClassifier 0.82\n"
     ]
    }
   ],
   "source": [
    "\n",
    "y_pred_rand_cv = rand_cv_rnd_frst.predict(X_test)\n",
    "\n",
    "rand_cv_f1 = round(f1_score(y_test, y_pred_rand_cv), 2)\n",
    "\n",
    "print('Метрика f1 на параметрах подобранных GridSearch для RandomForestClassifier {}'\n",
    "      .format(rand_cv_f1))"
   ]
  },
  {
   "cell_type": "markdown",
   "metadata": {},
   "source": [
    "Оптимизация RandomForestClassifier с помощью библиотеки hyperopt"
   ]
  },
  {
   "cell_type": "code",
   "execution_count": 47,
   "metadata": {},
   "outputs": [
    {
     "name": "stdout",
     "output_type": "stream",
     "text": [
      "100%|██████████| 20/20 [00:19<00:00,  1.00trial/s, best loss: -0.792642026740545]\n"
     ]
    }
   ],
   "source": [
    "hp_dict = {'n_estimators': hp.quniform('n_estimators', 100, 1000, 100),\n",
    "           'min_samples_leaf': hp.quniform('min_samples_leaf', 5, 50, 1),\n",
    "           'criterion': hp.choice('criterion', ['gini', 'entropy']),\n",
    "           'max_depth': hp.quniform('max_depth', 1, 30, 1)\n",
    "}\n",
    "\n",
    "def hp_optim_rand_forest(params):\n",
    "    \n",
    "    param_dict = {\n",
    "        'min_samples_leaf': int(params['min_samples_leaf']),\n",
    "        'criterion': params['criterion'],\n",
    "        'max_depth': int(params['max_depth'])\n",
    "    }\n",
    "    \n",
    "    rand_forest = RandomForestClassifier(**param_dict, random_state=42)\n",
    "    \n",
    "    score = cross_val_score(\n",
    "        estimator=rand_forest,\n",
    "        X=X_train,\n",
    "        y=y_train,\n",
    "        cv=5,\n",
    "        scoring='f1',\n",
    "        n_jobs=-1\n",
    "    )\n",
    "    \n",
    "    return -np.mean(score)\n",
    "\n",
    "\n",
    "trial = Trials() # сохранимся, возможно придется дотюнить параметры\n",
    "\n",
    "best = fmin(\n",
    "    fn=hp_optim_rand_forest,\n",
    "    space=hp_dict,\n",
    "    algo=tpe.suggest,\n",
    "    trials=trial,\n",
    "    max_evals=20,\n",
    "    rstate=np.random.default_rng(42) \n",
    ")"
   ]
  },
  {
   "cell_type": "code",
   "execution_count": 50,
   "metadata": {},
   "outputs": [
    {
     "name": "stdout",
     "output_type": "stream",
     "text": [
      "100%|██████████| 40/40 [00:25<00:00,  1.28s/trial, best loss: -0.8016030765645095]\n"
     ]
    }
   ],
   "source": [
    "best = fmin(\n",
    "    fn=hp_optim_rand_forest,\n",
    "    space=hp_dict,\n",
    "    algo=tpe.suggest,\n",
    "    trials=trial,\n",
    "    max_evals=40,\n",
    "    rstate=np.random.default_rng(42) \n",
    ")"
   ]
  },
  {
   "cell_type": "code",
   "execution_count": 51,
   "metadata": {},
   "outputs": [
    {
     "data": {
      "text/plain": [
       "{'criterion': 1,\n",
       " 'max_depth': 17.0,\n",
       " 'min_samples_leaf': 5.0,\n",
       " 'n_estimators': 200.0}"
      ]
     },
     "execution_count": 51,
     "metadata": {},
     "output_type": "execute_result"
    }
   ],
   "source": [
    "# выведем лучшие параметры модели\n",
    "best"
   ]
  },
  {
   "cell_type": "code",
   "execution_count": 63,
   "metadata": {},
   "outputs": [
    {
     "name": "stdout",
     "output_type": "stream",
     "text": [
      "Метрика f1 на параметрах подобранных алгоритмом hyperopt для RandomForestClassifier 0.82\n"
     ]
    }
   ],
   "source": [
    "hp_rand_forest = RandomForestClassifier(\n",
    "                       n_estimators=200,\n",
    "                       criterion='entropy',\n",
    "                       max_depth=17,\n",
    "                       min_samples_leaf=5,\n",
    "                       random_state=42)\n",
    "\n",
    "hp_rand_forest.fit(X_train, y_train)\n",
    "\n",
    "y_pred_hp = hp_rand_forest.predict(X_test)\n",
    "\n",
    "hp_f1_score = round(f1_score(y_test, y_pred_hp), 2)\n",
    "\n",
    "print('Метрика f1 на параметрах подобранных алгоритмом hyperopt для RandomForestClassifier {}'\n",
    "      .format(hp_f1_score))"
   ]
  },
  {
   "cell_type": "markdown",
   "metadata": {},
   "source": [
    "Оптимизиция RandomForestClassifier на алгоритме optuna"
   ]
  },
  {
   "cell_type": "code",
   "execution_count": 69,
   "metadata": {},
   "outputs": [
    {
     "name": "stderr",
     "output_type": "stream",
     "text": [
      "[I 2024-08-24 10:45:32,426] A new study created in memory with name: RandomForestClassifier_Optimization\n",
      "[I 2024-08-24 10:45:36,648] Trial 0 finished with value: 0.7495370649671032 and parameters: {'n_estimators': 700, 'criterion': 'entropy', 'max_depth': 5, 'min_samples_leaf': 15}. Best is trial 0 with value: 0.7495370649671032.\n",
      "[I 2024-08-24 10:45:40,156] Trial 1 finished with value: 0.767571782318411 and parameters: {'n_estimators': 450, 'criterion': 'gini', 'max_depth': 8, 'min_samples_leaf': 19}. Best is trial 1 with value: 0.767571782318411.\n",
      "[I 2024-08-24 10:45:43,322] Trial 2 finished with value: 0.7769818635068376 and parameters: {'n_estimators': 350, 'criterion': 'entropy', 'max_depth': 19, 'min_samples_leaf': 20}. Best is trial 2 with value: 0.7769818635068376.\n",
      "[I 2024-08-24 10:45:44,826] Trial 3 finished with value: 0.7232796453833517 and parameters: {'n_estimators': 650, 'criterion': 'gini', 'max_depth': 1, 'min_samples_leaf': 19}. Best is trial 2 with value: 0.7769818635068376.\n",
      "[I 2024-08-24 10:45:46,136] Trial 4 finished with value: 0.7706219392159948 and parameters: {'n_estimators': 150, 'criterion': 'entropy', 'max_depth': 16, 'min_samples_leaf': 23}. Best is trial 2 with value: 0.7769818635068376.\n",
      "[I 2024-08-24 10:45:48,230] Trial 5 finished with value: 0.7652126260268608 and parameters: {'n_estimators': 250, 'criterion': 'gini', 'max_depth': 9, 'min_samples_leaf': 27}. Best is trial 2 with value: 0.7769818635068376.\n",
      "[I 2024-08-24 10:45:54,643] Trial 6 finished with value: 0.7905020411904606 and parameters: {'n_estimators': 650, 'criterion': 'entropy', 'max_depth': 18, 'min_samples_leaf': 11}. Best is trial 6 with value: 0.7905020411904606.\n",
      "[I 2024-08-24 10:45:55,545] Trial 7 finished with value: 0.76575500064236 and parameters: {'n_estimators': 100, 'criterion': 'gini', 'max_depth': 15, 'min_samples_leaf': 25}. Best is trial 6 with value: 0.7905020411904606.\n",
      "[I 2024-08-24 10:46:01,937] Trial 8 finished with value: 0.7702100407004322 and parameters: {'n_estimators': 950, 'criterion': 'gini', 'max_depth': 15, 'min_samples_leaf': 23}. Best is trial 6 with value: 0.7905020411904606.\n",
      "[I 2024-08-24 10:46:03,421] Trial 9 finished with value: 0.7559252368840633 and parameters: {'n_estimators': 200, 'criterion': 'entropy', 'max_depth': 11, 'min_samples_leaf': 35}. Best is trial 6 with value: 0.7905020411904606.\n",
      "[I 2024-08-24 10:46:14,411] Trial 10 finished with value: 0.7994839847201313 and parameters: {'n_estimators': 900, 'criterion': 'entropy', 'max_depth': 20, 'min_samples_leaf': 6}. Best is trial 10 with value: 0.7994839847201313.\n",
      "[I 2024-08-24 10:46:26,233] Trial 11 finished with value: 0.798243174364095 and parameters: {'n_estimators': 1000, 'criterion': 'entropy', 'max_depth': 20, 'min_samples_leaf': 6}. Best is trial 10 with value: 0.7994839847201313.\n",
      "[I 2024-08-24 10:46:38,322] Trial 12 finished with value: 0.8036811798198636 and parameters: {'n_estimators': 1000, 'criterion': 'entropy', 'max_depth': 20, 'min_samples_leaf': 5}. Best is trial 12 with value: 0.8036811798198636.\n",
      "[I 2024-08-24 10:46:47,834] Trial 13 finished with value: 0.7956466606689101 and parameters: {'n_estimators': 850, 'criterion': 'entropy', 'max_depth': 12, 'min_samples_leaf': 5}. Best is trial 12 with value: 0.8036811798198636.\n",
      "[I 2024-08-24 10:46:56,456] Trial 14 finished with value: 0.7928526951294754 and parameters: {'n_estimators': 850, 'criterion': 'entropy', 'max_depth': 20, 'min_samples_leaf': 9}. Best is trial 12 with value: 0.8036811798198636.\n",
      "[I 2024-08-24 10:47:04,432] Trial 15 finished with value: 0.7907241945245914 and parameters: {'n_estimators': 850, 'criterion': 'entropy', 'max_depth': 17, 'min_samples_leaf': 12}. Best is trial 12 with value: 0.8036811798198636.\n",
      "[I 2024-08-24 10:47:13,047] Trial 16 finished with value: 0.7876363309273801 and parameters: {'n_estimators': 1000, 'criterion': 'entropy', 'max_depth': 13, 'min_samples_leaf': 14}. Best is trial 12 with value: 0.8036811798198636.\n",
      "[I 2024-08-24 10:47:17,979] Trial 17 finished with value: 0.7610547157110321 and parameters: {'n_estimators': 750, 'criterion': 'entropy', 'max_depth': 6, 'min_samples_leaf': 8}. Best is trial 12 with value: 0.8036811798198636.\n",
      "[I 2024-08-24 10:47:24,594] Trial 18 finished with value: 0.8014697027649902 and parameters: {'n_estimators': 550, 'criterion': 'entropy', 'max_depth': 14, 'min_samples_leaf': 5}. Best is trial 12 with value: 0.8036811798198636.\n",
      "[I 2024-08-24 10:47:28,068] Trial 19 finished with value: 0.7655774306974557 and parameters: {'n_estimators': 500, 'criterion': 'entropy', 'max_depth': 14, 'min_samples_leaf': 31}. Best is trial 12 with value: 0.8036811798198636.\n"
     ]
    }
   ],
   "source": [
    "# создаем функцию для алгоритма и оптимизируем параметры\n",
    "def optimize_random_forest(trial):\n",
    "    n_estimators = trial.suggest_int('n_estimators', 100, 1000, step=50)\n",
    "    criterion = trial.suggest_categorical('criterion', ['entropy', 'gini'])\n",
    "    max_depth = trial.suggest_int('max_depth', 1, 20, step=1)\n",
    "    min_samples_leaf = trial.suggest_int('min_samples_leaf', 5, 35, step=1)\n",
    "    \n",
    "    estimator = RandomForestClassifier(\n",
    "        n_estimators=n_estimators,\n",
    "        criterion=criterion,\n",
    "        max_depth=max_depth,\n",
    "        min_samples_leaf=min_samples_leaf,\n",
    "        random_state=42\n",
    "    )\n",
    "    \n",
    "    score = cross_val_score(\n",
    "        estimator=estimator,\n",
    "        X=X_train,\n",
    "        y=y_train,\n",
    "        cv=5,\n",
    "        n_jobs=-1,\n",
    "        scoring='f1'\n",
    "    )\n",
    "    \n",
    "    return np.mean(score)\n",
    "\n",
    "study = optuna.create_study(study_name='RandomForestClassifier_Optimization', direction='maximize')\n",
    "\n",
    "best = study.optimize(optimize_random_forest, n_trials=20)"
   ]
  },
  {
   "cell_type": "code",
   "execution_count": 70,
   "metadata": {},
   "outputs": [
    {
     "name": "stderr",
     "output_type": "stream",
     "text": [
      "[I 2024-08-24 10:48:13,145] Trial 20 finished with value: 0.785629425045913 and parameters: {'n_estimators': 400, 'criterion': 'entropy', 'max_depth': 17, 'min_samples_leaf': 16}. Best is trial 12 with value: 0.8036811798198636.\n",
      "[I 2024-08-24 10:48:20,456] Trial 21 finished with value: 0.8023451381591944 and parameters: {'n_estimators': 550, 'criterion': 'entropy', 'max_depth': 18, 'min_samples_leaf': 5}. Best is trial 12 with value: 0.8036811798198636.\n",
      "[I 2024-08-24 10:48:27,138] Trial 22 finished with value: 0.7940625965636924 and parameters: {'n_estimators': 600, 'criterion': 'entropy', 'max_depth': 18, 'min_samples_leaf': 9}. Best is trial 12 with value: 0.8036811798198636.\n",
      "[I 2024-08-24 10:48:33,795] Trial 23 finished with value: 0.8014697027649902 and parameters: {'n_estimators': 550, 'criterion': 'entropy', 'max_depth': 14, 'min_samples_leaf': 5}. Best is trial 12 with value: 0.8036811798198636.\n",
      "[I 2024-08-24 10:48:36,877] Trial 24 finished with value: 0.7896995411355273 and parameters: {'n_estimators': 300, 'criterion': 'entropy', 'max_depth': 17, 'min_samples_leaf': 11}. Best is trial 12 with value: 0.8036811798198636.\n",
      "[I 2024-08-24 10:48:45,104] Trial 25 finished with value: 0.7938921865785934 and parameters: {'n_estimators': 750, 'criterion': 'entropy', 'max_depth': 18, 'min_samples_leaf': 8}. Best is trial 12 with value: 0.8036811798198636.\n",
      "[I 2024-08-24 10:48:49,818] Trial 26 finished with value: 0.7870059084255262 and parameters: {'n_estimators': 550, 'criterion': 'gini', 'max_depth': 16, 'min_samples_leaf': 13}. Best is trial 12 with value: 0.8036811798198636.\n",
      "[I 2024-08-24 10:48:54,409] Trial 27 finished with value: 0.7939820254941583 and parameters: {'n_estimators': 450, 'criterion': 'entropy', 'max_depth': 10, 'min_samples_leaf': 7}. Best is trial 12 with value: 0.8036811798198636.\n",
      "[I 2024-08-24 10:49:01,898] Trial 28 finished with value: 0.7946640359425304 and parameters: {'n_estimators': 750, 'criterion': 'entropy', 'max_depth': 13, 'min_samples_leaf': 10}. Best is trial 12 with value: 0.8036811798198636.\n",
      "[I 2024-08-24 10:49:07,397] Trial 29 finished with value: 0.7806967762317072 and parameters: {'n_estimators': 650, 'criterion': 'entropy', 'max_depth': 19, 'min_samples_leaf': 17}. Best is trial 12 with value: 0.8036811798198636.\n",
      "[I 2024-08-24 10:49:08,524] Trial 30 finished with value: 0.7217707424041432 and parameters: {'n_estimators': 500, 'criterion': 'entropy', 'max_depth': 1, 'min_samples_leaf': 5}. Best is trial 12 with value: 0.8036811798198636.\n",
      "[I 2024-08-24 10:49:15,225] Trial 31 finished with value: 0.8014697027649902 and parameters: {'n_estimators': 550, 'criterion': 'entropy', 'max_depth': 14, 'min_samples_leaf': 5}. Best is trial 12 with value: 0.8036811798198636.\n",
      "[I 2024-08-24 10:49:20,213] Trial 32 finished with value: 0.797510340365144 and parameters: {'n_estimators': 450, 'criterion': 'entropy', 'max_depth': 12, 'min_samples_leaf': 7}. Best is trial 12 with value: 0.8036811798198636.\n",
      "[I 2024-08-24 10:49:24,805] Trial 33 finished with value: 0.772084408881316 and parameters: {'n_estimators': 600, 'criterion': 'entropy', 'max_depth': 7, 'min_samples_leaf': 9}. Best is trial 12 with value: 0.8036811798198636.\n",
      "[I 2024-08-24 10:49:28,906] Trial 34 finished with value: 0.8028364790956234 and parameters: {'n_estimators': 350, 'criterion': 'gini', 'max_depth': 15, 'min_samples_leaf': 5}. Best is trial 12 with value: 0.8036811798198636.\n",
      "[I 2024-08-24 10:49:30,405] Trial 35 finished with value: 0.7441805033228295 and parameters: {'n_estimators': 300, 'criterion': 'gini', 'max_depth': 4, 'min_samples_leaf': 7}. Best is trial 12 with value: 0.8036811798198636.\n",
      "[I 2024-08-24 10:49:33,518] Trial 36 finished with value: 0.7860110822191503 and parameters: {'n_estimators': 350, 'criterion': 'gini', 'max_depth': 16, 'min_samples_leaf': 14}. Best is trial 12 with value: 0.8036811798198636.\n",
      "[I 2024-08-24 10:49:37,404] Trial 37 finished with value: 0.7879799995941343 and parameters: {'n_estimators': 400, 'criterion': 'gini', 'max_depth': 19, 'min_samples_leaf': 10}. Best is trial 12 with value: 0.8036811798198636.\n",
      "[I 2024-08-24 10:49:43,559] Trial 38 finished with value: 0.7909879377004152 and parameters: {'n_estimators': 700, 'criterion': 'gini', 'max_depth': 15, 'min_samples_leaf': 12}. Best is trial 12 with value: 0.8036811798198636.\n",
      "[I 2024-08-24 10:49:45,844] Trial 39 finished with value: 0.7927938009718358 and parameters: {'n_estimators': 200, 'criterion': 'gini', 'max_depth': 19, 'min_samples_leaf': 7}. Best is trial 12 with value: 0.8036811798198636.\n",
      "[I 2024-08-24 10:49:49,191] Trial 40 finished with value: 0.7815786166883748 and parameters: {'n_estimators': 400, 'criterion': 'gini', 'max_depth': 17, 'min_samples_leaf': 17}. Best is trial 12 with value: 0.8036811798198636.\n",
      "[I 2024-08-24 10:49:55,379] Trial 41 finished with value: 0.8021879137411106 and parameters: {'n_estimators': 500, 'criterion': 'entropy', 'max_depth': 14, 'min_samples_leaf': 5}. Best is trial 12 with value: 0.8036811798198636.\n",
      "[I 2024-08-24 10:50:01,651] Trial 42 finished with value: 0.8010786647593117 and parameters: {'n_estimators': 500, 'criterion': 'entropy', 'max_depth': 15, 'min_samples_leaf': 5}. Best is trial 12 with value: 0.8036811798198636.\n",
      "[I 2024-08-24 10:50:07,321] Trial 43 finished with value: 0.792151874553144 and parameters: {'n_estimators': 600, 'criterion': 'gini', 'max_depth': 10, 'min_samples_leaf': 8}. Best is trial 12 with value: 0.8036811798198636.\n",
      "[I 2024-08-24 10:50:10,227] Trial 44 finished with value: 0.7702828388981993 and parameters: {'n_estimators': 350, 'criterion': 'entropy', 'max_depth': 12, 'min_samples_leaf': 21}. Best is trial 12 with value: 0.8036811798198636.\n",
      "[I 2024-08-24 10:50:16,285] Trial 45 finished with value: 0.7992498284484872 and parameters: {'n_estimators': 500, 'criterion': 'entropy', 'max_depth': 16, 'min_samples_leaf': 6}. Best is trial 12 with value: 0.8036811798198636.\n",
      "[I 2024-08-24 10:50:21,165] Trial 46 finished with value: 0.7983064683505261 and parameters: {'n_estimators': 450, 'criterion': 'gini', 'max_depth': 13, 'min_samples_leaf': 6}. Best is trial 12 with value: 0.8036811798198636.\n",
      "[I 2024-08-24 10:50:26,128] Trial 47 finished with value: 0.7681323704374202 and parameters: {'n_estimators': 700, 'criterion': 'entropy', 'max_depth': 18, 'min_samples_leaf': 28}. Best is trial 12 with value: 0.8036811798198636.\n",
      "[I 2024-08-24 10:50:29,055] Trial 48 finished with value: 0.7904443591342147 and parameters: {'n_estimators': 250, 'criterion': 'entropy', 'max_depth': 20, 'min_samples_leaf': 10}. Best is trial 12 with value: 0.8036811798198636.\n",
      "[I 2024-08-24 10:50:35,203] Trial 49 finished with value: 0.7912307474741688 and parameters: {'n_estimators': 600, 'criterion': 'entropy', 'max_depth': 11, 'min_samples_leaf': 8}. Best is trial 12 with value: 0.8036811798198636.\n",
      "[I 2024-08-24 10:50:36,334] Trial 50 finished with value: 0.7865734974425816 and parameters: {'n_estimators': 100, 'criterion': 'gini', 'max_depth': 9, 'min_samples_leaf': 6}. Best is trial 12 with value: 0.8036811798198636.\n",
      "[I 2024-08-24 10:50:43,060] Trial 51 finished with value: 0.8014697027649902 and parameters: {'n_estimators': 550, 'criterion': 'entropy', 'max_depth': 14, 'min_samples_leaf': 5}. Best is trial 12 with value: 0.8036811798198636.\n",
      "[I 2024-08-24 10:50:51,350] Trial 52 finished with value: 0.8028701496399913 and parameters: {'n_estimators': 650, 'criterion': 'entropy', 'max_depth': 15, 'min_samples_leaf': 5}. Best is trial 12 with value: 0.8036811798198636.\n",
      "[I 2024-08-24 10:51:02,250] Trial 53 finished with value: 0.7991725235611782 and parameters: {'n_estimators': 950, 'criterion': 'entropy', 'max_depth': 16, 'min_samples_leaf': 7}. Best is trial 12 with value: 0.8036811798198636.\n",
      "[I 2024-08-24 10:51:09,166] Trial 54 finished with value: 0.7944606696918459 and parameters: {'n_estimators': 650, 'criterion': 'entropy', 'max_depth': 15, 'min_samples_leaf': 9}. Best is trial 12 with value: 0.8036811798198636.\n",
      "[I 2024-08-24 10:51:19,676] Trial 55 finished with value: 0.8033258873393981 and parameters: {'n_estimators': 800, 'criterion': 'entropy', 'max_depth': 18, 'min_samples_leaf': 5}. Best is trial 12 with value: 0.8036811798198636.\n",
      "[I 2024-08-24 10:51:25,012] Trial 56 finished with value: 0.758334790186908 and parameters: {'n_estimators': 800, 'criterion': 'entropy', 'max_depth': 19, 'min_samples_leaf': 35}. Best is trial 12 with value: 0.8036811798198636.\n",
      "[I 2024-08-24 10:51:33,963] Trial 57 finished with value: 0.7906944531348671 and parameters: {'n_estimators': 900, 'criterion': 'entropy', 'max_depth': 17, 'min_samples_leaf': 11}. Best is trial 12 with value: 0.8036811798198636.\n",
      "[I 2024-08-24 10:51:44,333] Trial 58 finished with value: 0.7943032000018418 and parameters: {'n_estimators': 950, 'criterion': 'entropy', 'max_depth': 18, 'min_samples_leaf': 8}. Best is trial 12 with value: 0.8036811798198636.\n",
      "[I 2024-08-24 10:51:55,250] Trial 59 finished with value: 0.7994839847201313 and parameters: {'n_estimators': 900, 'criterion': 'entropy', 'max_depth': 20, 'min_samples_leaf': 6}. Best is trial 12 with value: 0.8036811798198636.\n"
     ]
    }
   ],
   "source": [
    "# повторим еще 20 шагов\n",
    "\n",
    "best = study.optimize(optimize_random_forest, n_trials=40)"
   ]
  },
  {
   "cell_type": "code",
   "execution_count": 71,
   "metadata": {},
   "outputs": [
    {
     "data": {
      "application/vnd.plotly.v1+json": {
       "config": {
        "plotlyServerURL": "https://plot.ly"
       },
       "data": [
        {
         "mode": "markers",
         "name": "Objective Value",
         "type": "scatter",
         "x": [
          0,
          1,
          2,
          3,
          4,
          5,
          6,
          7,
          8,
          9,
          10,
          11,
          12,
          13,
          14,
          15,
          16,
          17,
          18,
          19,
          20,
          21,
          22,
          23,
          24,
          25,
          26,
          27,
          28,
          29,
          30,
          31,
          32,
          33,
          34,
          35,
          36,
          37,
          38,
          39,
          40,
          41,
          42,
          43,
          44,
          45,
          46,
          47,
          48,
          49,
          50,
          51,
          52,
          53,
          54,
          55,
          56,
          57,
          58,
          59
         ],
         "y": [
          0.7495370649671032,
          0.767571782318411,
          0.7769818635068376,
          0.7232796453833517,
          0.7706219392159948,
          0.7652126260268608,
          0.7905020411904606,
          0.76575500064236,
          0.7702100407004322,
          0.7559252368840633,
          0.7994839847201313,
          0.798243174364095,
          0.8036811798198636,
          0.7956466606689101,
          0.7928526951294754,
          0.7907241945245914,
          0.7876363309273801,
          0.7610547157110321,
          0.8014697027649902,
          0.7655774306974557,
          0.785629425045913,
          0.8023451381591944,
          0.7940625965636924,
          0.8014697027649902,
          0.7896995411355273,
          0.7938921865785934,
          0.7870059084255262,
          0.7939820254941583,
          0.7946640359425304,
          0.7806967762317072,
          0.7217707424041432,
          0.8014697027649902,
          0.797510340365144,
          0.772084408881316,
          0.8028364790956234,
          0.7441805033228295,
          0.7860110822191503,
          0.7879799995941343,
          0.7909879377004152,
          0.7927938009718358,
          0.7815786166883748,
          0.8021879137411106,
          0.8010786647593117,
          0.792151874553144,
          0.7702828388981993,
          0.7992498284484872,
          0.7983064683505261,
          0.7681323704374202,
          0.7904443591342147,
          0.7912307474741688,
          0.7865734974425816,
          0.8014697027649902,
          0.8028701496399913,
          0.7991725235611782,
          0.7944606696918459,
          0.8033258873393981,
          0.758334790186908,
          0.7906944531348671,
          0.7943032000018418,
          0.7994839847201313
         ]
        },
        {
         "mode": "lines",
         "name": "Best Value",
         "type": "scatter",
         "x": [
          0,
          1,
          2,
          3,
          4,
          5,
          6,
          7,
          8,
          9,
          10,
          11,
          12,
          13,
          14,
          15,
          16,
          17,
          18,
          19,
          20,
          21,
          22,
          23,
          24,
          25,
          26,
          27,
          28,
          29,
          30,
          31,
          32,
          33,
          34,
          35,
          36,
          37,
          38,
          39,
          40,
          41,
          42,
          43,
          44,
          45,
          46,
          47,
          48,
          49,
          50,
          51,
          52,
          53,
          54,
          55,
          56,
          57,
          58,
          59
         ],
         "y": [
          0.7495370649671032,
          0.767571782318411,
          0.7769818635068376,
          0.7769818635068376,
          0.7769818635068376,
          0.7769818635068376,
          0.7905020411904606,
          0.7905020411904606,
          0.7905020411904606,
          0.7905020411904606,
          0.7994839847201313,
          0.7994839847201313,
          0.8036811798198636,
          0.8036811798198636,
          0.8036811798198636,
          0.8036811798198636,
          0.8036811798198636,
          0.8036811798198636,
          0.8036811798198636,
          0.8036811798198636,
          0.8036811798198636,
          0.8036811798198636,
          0.8036811798198636,
          0.8036811798198636,
          0.8036811798198636,
          0.8036811798198636,
          0.8036811798198636,
          0.8036811798198636,
          0.8036811798198636,
          0.8036811798198636,
          0.8036811798198636,
          0.8036811798198636,
          0.8036811798198636,
          0.8036811798198636,
          0.8036811798198636,
          0.8036811798198636,
          0.8036811798198636,
          0.8036811798198636,
          0.8036811798198636,
          0.8036811798198636,
          0.8036811798198636,
          0.8036811798198636,
          0.8036811798198636,
          0.8036811798198636,
          0.8036811798198636,
          0.8036811798198636,
          0.8036811798198636,
          0.8036811798198636,
          0.8036811798198636,
          0.8036811798198636,
          0.8036811798198636,
          0.8036811798198636,
          0.8036811798198636,
          0.8036811798198636,
          0.8036811798198636,
          0.8036811798198636,
          0.8036811798198636,
          0.8036811798198636,
          0.8036811798198636,
          0.8036811798198636
         ]
        },
        {
         "marker": {
          "color": "#cccccc"
         },
         "mode": "markers",
         "name": "Infeasible Trial",
         "showlegend": false,
         "type": "scatter",
         "x": [],
         "y": []
        }
       ],
       "layout": {
        "template": {
         "data": {
          "bar": [
           {
            "error_x": {
             "color": "#2a3f5f"
            },
            "error_y": {
             "color": "#2a3f5f"
            },
            "marker": {
             "line": {
              "color": "#E5ECF6",
              "width": 0.5
             },
             "pattern": {
              "fillmode": "overlay",
              "size": 10,
              "solidity": 0.2
             }
            },
            "type": "bar"
           }
          ],
          "barpolar": [
           {
            "marker": {
             "line": {
              "color": "#E5ECF6",
              "width": 0.5
             },
             "pattern": {
              "fillmode": "overlay",
              "size": 10,
              "solidity": 0.2
             }
            },
            "type": "barpolar"
           }
          ],
          "carpet": [
           {
            "aaxis": {
             "endlinecolor": "#2a3f5f",
             "gridcolor": "white",
             "linecolor": "white",
             "minorgridcolor": "white",
             "startlinecolor": "#2a3f5f"
            },
            "baxis": {
             "endlinecolor": "#2a3f5f",
             "gridcolor": "white",
             "linecolor": "white",
             "minorgridcolor": "white",
             "startlinecolor": "#2a3f5f"
            },
            "type": "carpet"
           }
          ],
          "choropleth": [
           {
            "colorbar": {
             "outlinewidth": 0,
             "ticks": ""
            },
            "type": "choropleth"
           }
          ],
          "contour": [
           {
            "colorbar": {
             "outlinewidth": 0,
             "ticks": ""
            },
            "colorscale": [
             [
              0,
              "#0d0887"
             ],
             [
              0.1111111111111111,
              "#46039f"
             ],
             [
              0.2222222222222222,
              "#7201a8"
             ],
             [
              0.3333333333333333,
              "#9c179e"
             ],
             [
              0.4444444444444444,
              "#bd3786"
             ],
             [
              0.5555555555555556,
              "#d8576b"
             ],
             [
              0.6666666666666666,
              "#ed7953"
             ],
             [
              0.7777777777777778,
              "#fb9f3a"
             ],
             [
              0.8888888888888888,
              "#fdca26"
             ],
             [
              1,
              "#f0f921"
             ]
            ],
            "type": "contour"
           }
          ],
          "contourcarpet": [
           {
            "colorbar": {
             "outlinewidth": 0,
             "ticks": ""
            },
            "type": "contourcarpet"
           }
          ],
          "heatmap": [
           {
            "colorbar": {
             "outlinewidth": 0,
             "ticks": ""
            },
            "colorscale": [
             [
              0,
              "#0d0887"
             ],
             [
              0.1111111111111111,
              "#46039f"
             ],
             [
              0.2222222222222222,
              "#7201a8"
             ],
             [
              0.3333333333333333,
              "#9c179e"
             ],
             [
              0.4444444444444444,
              "#bd3786"
             ],
             [
              0.5555555555555556,
              "#d8576b"
             ],
             [
              0.6666666666666666,
              "#ed7953"
             ],
             [
              0.7777777777777778,
              "#fb9f3a"
             ],
             [
              0.8888888888888888,
              "#fdca26"
             ],
             [
              1,
              "#f0f921"
             ]
            ],
            "type": "heatmap"
           }
          ],
          "heatmapgl": [
           {
            "colorbar": {
             "outlinewidth": 0,
             "ticks": ""
            },
            "colorscale": [
             [
              0,
              "#0d0887"
             ],
             [
              0.1111111111111111,
              "#46039f"
             ],
             [
              0.2222222222222222,
              "#7201a8"
             ],
             [
              0.3333333333333333,
              "#9c179e"
             ],
             [
              0.4444444444444444,
              "#bd3786"
             ],
             [
              0.5555555555555556,
              "#d8576b"
             ],
             [
              0.6666666666666666,
              "#ed7953"
             ],
             [
              0.7777777777777778,
              "#fb9f3a"
             ],
             [
              0.8888888888888888,
              "#fdca26"
             ],
             [
              1,
              "#f0f921"
             ]
            ],
            "type": "heatmapgl"
           }
          ],
          "histogram": [
           {
            "marker": {
             "pattern": {
              "fillmode": "overlay",
              "size": 10,
              "solidity": 0.2
             }
            },
            "type": "histogram"
           }
          ],
          "histogram2d": [
           {
            "colorbar": {
             "outlinewidth": 0,
             "ticks": ""
            },
            "colorscale": [
             [
              0,
              "#0d0887"
             ],
             [
              0.1111111111111111,
              "#46039f"
             ],
             [
              0.2222222222222222,
              "#7201a8"
             ],
             [
              0.3333333333333333,
              "#9c179e"
             ],
             [
              0.4444444444444444,
              "#bd3786"
             ],
             [
              0.5555555555555556,
              "#d8576b"
             ],
             [
              0.6666666666666666,
              "#ed7953"
             ],
             [
              0.7777777777777778,
              "#fb9f3a"
             ],
             [
              0.8888888888888888,
              "#fdca26"
             ],
             [
              1,
              "#f0f921"
             ]
            ],
            "type": "histogram2d"
           }
          ],
          "histogram2dcontour": [
           {
            "colorbar": {
             "outlinewidth": 0,
             "ticks": ""
            },
            "colorscale": [
             [
              0,
              "#0d0887"
             ],
             [
              0.1111111111111111,
              "#46039f"
             ],
             [
              0.2222222222222222,
              "#7201a8"
             ],
             [
              0.3333333333333333,
              "#9c179e"
             ],
             [
              0.4444444444444444,
              "#bd3786"
             ],
             [
              0.5555555555555556,
              "#d8576b"
             ],
             [
              0.6666666666666666,
              "#ed7953"
             ],
             [
              0.7777777777777778,
              "#fb9f3a"
             ],
             [
              0.8888888888888888,
              "#fdca26"
             ],
             [
              1,
              "#f0f921"
             ]
            ],
            "type": "histogram2dcontour"
           }
          ],
          "mesh3d": [
           {
            "colorbar": {
             "outlinewidth": 0,
             "ticks": ""
            },
            "type": "mesh3d"
           }
          ],
          "parcoords": [
           {
            "line": {
             "colorbar": {
              "outlinewidth": 0,
              "ticks": ""
             }
            },
            "type": "parcoords"
           }
          ],
          "pie": [
           {
            "automargin": true,
            "type": "pie"
           }
          ],
          "scatter": [
           {
            "fillpattern": {
             "fillmode": "overlay",
             "size": 10,
             "solidity": 0.2
            },
            "type": "scatter"
           }
          ],
          "scatter3d": [
           {
            "line": {
             "colorbar": {
              "outlinewidth": 0,
              "ticks": ""
             }
            },
            "marker": {
             "colorbar": {
              "outlinewidth": 0,
              "ticks": ""
             }
            },
            "type": "scatter3d"
           }
          ],
          "scattercarpet": [
           {
            "marker": {
             "colorbar": {
              "outlinewidth": 0,
              "ticks": ""
             }
            },
            "type": "scattercarpet"
           }
          ],
          "scattergeo": [
           {
            "marker": {
             "colorbar": {
              "outlinewidth": 0,
              "ticks": ""
             }
            },
            "type": "scattergeo"
           }
          ],
          "scattergl": [
           {
            "marker": {
             "colorbar": {
              "outlinewidth": 0,
              "ticks": ""
             }
            },
            "type": "scattergl"
           }
          ],
          "scattermapbox": [
           {
            "marker": {
             "colorbar": {
              "outlinewidth": 0,
              "ticks": ""
             }
            },
            "type": "scattermapbox"
           }
          ],
          "scatterpolar": [
           {
            "marker": {
             "colorbar": {
              "outlinewidth": 0,
              "ticks": ""
             }
            },
            "type": "scatterpolar"
           }
          ],
          "scatterpolargl": [
           {
            "marker": {
             "colorbar": {
              "outlinewidth": 0,
              "ticks": ""
             }
            },
            "type": "scatterpolargl"
           }
          ],
          "scatterternary": [
           {
            "marker": {
             "colorbar": {
              "outlinewidth": 0,
              "ticks": ""
             }
            },
            "type": "scatterternary"
           }
          ],
          "surface": [
           {
            "colorbar": {
             "outlinewidth": 0,
             "ticks": ""
            },
            "colorscale": [
             [
              0,
              "#0d0887"
             ],
             [
              0.1111111111111111,
              "#46039f"
             ],
             [
              0.2222222222222222,
              "#7201a8"
             ],
             [
              0.3333333333333333,
              "#9c179e"
             ],
             [
              0.4444444444444444,
              "#bd3786"
             ],
             [
              0.5555555555555556,
              "#d8576b"
             ],
             [
              0.6666666666666666,
              "#ed7953"
             ],
             [
              0.7777777777777778,
              "#fb9f3a"
             ],
             [
              0.8888888888888888,
              "#fdca26"
             ],
             [
              1,
              "#f0f921"
             ]
            ],
            "type": "surface"
           }
          ],
          "table": [
           {
            "cells": {
             "fill": {
              "color": "#EBF0F8"
             },
             "line": {
              "color": "white"
             }
            },
            "header": {
             "fill": {
              "color": "#C8D4E3"
             },
             "line": {
              "color": "white"
             }
            },
            "type": "table"
           }
          ]
         },
         "layout": {
          "annotationdefaults": {
           "arrowcolor": "#2a3f5f",
           "arrowhead": 0,
           "arrowwidth": 1
          },
          "autotypenumbers": "strict",
          "coloraxis": {
           "colorbar": {
            "outlinewidth": 0,
            "ticks": ""
           }
          },
          "colorscale": {
           "diverging": [
            [
             0,
             "#8e0152"
            ],
            [
             0.1,
             "#c51b7d"
            ],
            [
             0.2,
             "#de77ae"
            ],
            [
             0.3,
             "#f1b6da"
            ],
            [
             0.4,
             "#fde0ef"
            ],
            [
             0.5,
             "#f7f7f7"
            ],
            [
             0.6,
             "#e6f5d0"
            ],
            [
             0.7,
             "#b8e186"
            ],
            [
             0.8,
             "#7fbc41"
            ],
            [
             0.9,
             "#4d9221"
            ],
            [
             1,
             "#276419"
            ]
           ],
           "sequential": [
            [
             0,
             "#0d0887"
            ],
            [
             0.1111111111111111,
             "#46039f"
            ],
            [
             0.2222222222222222,
             "#7201a8"
            ],
            [
             0.3333333333333333,
             "#9c179e"
            ],
            [
             0.4444444444444444,
             "#bd3786"
            ],
            [
             0.5555555555555556,
             "#d8576b"
            ],
            [
             0.6666666666666666,
             "#ed7953"
            ],
            [
             0.7777777777777778,
             "#fb9f3a"
            ],
            [
             0.8888888888888888,
             "#fdca26"
            ],
            [
             1,
             "#f0f921"
            ]
           ],
           "sequentialminus": [
            [
             0,
             "#0d0887"
            ],
            [
             0.1111111111111111,
             "#46039f"
            ],
            [
             0.2222222222222222,
             "#7201a8"
            ],
            [
             0.3333333333333333,
             "#9c179e"
            ],
            [
             0.4444444444444444,
             "#bd3786"
            ],
            [
             0.5555555555555556,
             "#d8576b"
            ],
            [
             0.6666666666666666,
             "#ed7953"
            ],
            [
             0.7777777777777778,
             "#fb9f3a"
            ],
            [
             0.8888888888888888,
             "#fdca26"
            ],
            [
             1,
             "#f0f921"
            ]
           ]
          },
          "colorway": [
           "#636efa",
           "#EF553B",
           "#00cc96",
           "#ab63fa",
           "#FFA15A",
           "#19d3f3",
           "#FF6692",
           "#B6E880",
           "#FF97FF",
           "#FECB52"
          ],
          "font": {
           "color": "#2a3f5f"
          },
          "geo": {
           "bgcolor": "white",
           "lakecolor": "white",
           "landcolor": "#E5ECF6",
           "showlakes": true,
           "showland": true,
           "subunitcolor": "white"
          },
          "hoverlabel": {
           "align": "left"
          },
          "hovermode": "closest",
          "mapbox": {
           "style": "light"
          },
          "paper_bgcolor": "white",
          "plot_bgcolor": "#E5ECF6",
          "polar": {
           "angularaxis": {
            "gridcolor": "white",
            "linecolor": "white",
            "ticks": ""
           },
           "bgcolor": "#E5ECF6",
           "radialaxis": {
            "gridcolor": "white",
            "linecolor": "white",
            "ticks": ""
           }
          },
          "scene": {
           "xaxis": {
            "backgroundcolor": "#E5ECF6",
            "gridcolor": "white",
            "gridwidth": 2,
            "linecolor": "white",
            "showbackground": true,
            "ticks": "",
            "zerolinecolor": "white"
           },
           "yaxis": {
            "backgroundcolor": "#E5ECF6",
            "gridcolor": "white",
            "gridwidth": 2,
            "linecolor": "white",
            "showbackground": true,
            "ticks": "",
            "zerolinecolor": "white"
           },
           "zaxis": {
            "backgroundcolor": "#E5ECF6",
            "gridcolor": "white",
            "gridwidth": 2,
            "linecolor": "white",
            "showbackground": true,
            "ticks": "",
            "zerolinecolor": "white"
           }
          },
          "shapedefaults": {
           "line": {
            "color": "#2a3f5f"
           }
          },
          "ternary": {
           "aaxis": {
            "gridcolor": "white",
            "linecolor": "white",
            "ticks": ""
           },
           "baxis": {
            "gridcolor": "white",
            "linecolor": "white",
            "ticks": ""
           },
           "bgcolor": "#E5ECF6",
           "caxis": {
            "gridcolor": "white",
            "linecolor": "white",
            "ticks": ""
           }
          },
          "title": {
           "x": 0.05
          },
          "xaxis": {
           "automargin": true,
           "gridcolor": "white",
           "linecolor": "white",
           "ticks": "",
           "title": {
            "standoff": 15
           },
           "zerolinecolor": "white",
           "zerolinewidth": 2
          },
          "yaxis": {
           "automargin": true,
           "gridcolor": "white",
           "linecolor": "white",
           "ticks": "",
           "title": {
            "standoff": 15
           },
           "zerolinecolor": "white",
           "zerolinewidth": 2
          }
         }
        },
        "title": {
         "text": "Optimization History Plot"
        },
        "xaxis": {
         "title": {
          "text": "Trial"
         }
        },
        "yaxis": {
         "title": {
          "text": "Objective Value"
         }
        }
       }
      }
     },
     "metadata": {},
     "output_type": "display_data"
    }
   ],
   "source": [
    "optuna.visualization.plot_optimization_history(study)"
   ]
  },
  {
   "cell_type": "code",
   "execution_count": 75,
   "metadata": {},
   "outputs": [
    {
     "name": "stdout",
     "output_type": "stream",
     "text": [
      "Метрика f1 на параметрах подобранных алгоритмом optuna для RandomForestClassifier 0.83\n"
     ]
    }
   ],
   "source": [
    "rnd_frst_optuna = RandomForestClassifier(\n",
    "    **study.best_params,\n",
    "    random_state=42\n",
    ")\n",
    "\n",
    "rnd_frst_optuna.fit(X_train, y_train)\n",
    "\n",
    "y_pred_best_optuna = rnd_frst_optuna.predict(X_test)\n",
    "optuna_f1_random_frst = round(f1_score(y_test, y_pred_best_optuna), 2)\n",
    "\n",
    "print('Метрика f1 на параметрах подобранных алгоритмом optuna для RandomForestClassifier {}'\n",
    "      .format(optuna_f1_random_frst))"
   ]
  },
  {
   "cell_type": "markdown",
   "metadata": {},
   "source": [
    "##### Общий вывод:\n",
    "- Провели оптимизацию 2х моделей LogisticRegression и RandomForestClassifier\n",
    "- Использовали 4 алгоритма оптимизации GridSearch и RamdomSearch, а также продвинутые алгориты Hyperopt и Optuna\n",
    "- Использовали кросс-валидацию во всех случаях\n",
    "- Для проверки использовали метрику f1_score\n",
    "- По итогу можно сказать, что начальные настройки алгоритмов в целом показывают достойные результаты уже, что называется, из коробки\n",
    "- Метрику удалось улучшить лишь на 0.01 при применении RandomForestClassifier и алгоритма optuna\n",
    "- RandomForestClassifier в целом на тестовой выборки показывает лучнее показание f1\n",
    "\n",
    "P.S. Лично мне понравился больше всего алгоритм optuna, очень понятный синтаксис, есть визуализация результатов, НАМНОГО быстрее чем какой нибудь GridSearch, есть можность задать гораздо больше параметров для поиска и при этом не умереть от старости."
   ]
  }
 ],
 "metadata": {
  "kernelspec": {
   "display_name": "Python 3",
   "language": "python",
   "name": "python3"
  },
  "language_info": {
   "codemirror_mode": {
    "name": "ipython",
    "version": 3
   },
   "file_extension": ".py",
   "mimetype": "text/x-python",
   "name": "python",
   "nbconvert_exporter": "python",
   "pygments_lexer": "ipython3",
   "version": "3.11.4"
  }
 },
 "nbformat": 4,
 "nbformat_minor": 2
}
